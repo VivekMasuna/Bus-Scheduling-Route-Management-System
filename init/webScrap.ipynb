{
 "cells": [
  {
   "cell_type": "code",
   "execution_count": 10,
   "metadata": {},
   "outputs": [],
   "source": [
    "import re, requests\n",
    "from bs4 import BeautifulSoup\n",
    "from collections import defaultdict\n",
    "import json\n"
   ]
  },
  {
   "cell_type": "code",
   "execution_count": 3,
   "metadata": {},
   "outputs": [],
   "source": [
    "reg = re.compile(r'center=(\\d+\\.\\d+)%2C(\\d+\\.\\d+)&')"
   ]
  },
  {
   "cell_type": "code",
   "execution_count": 4,
   "metadata": {},
   "outputs": [],
   "source": [
    "place = ['Barwala School', 'Rohini Sec 18', 'Badli Crossing', 'Old Secretariat (Postal Account Office)', 'Tees Hazari Court', 'Sanjay Gandhi Transport Nagar', 'PNB STA Road', 'INS Hostel', 'Rohini Sec 24 Dear Satguru Sewaram Crossing', 'Rohini Sec-9 /7', 'Ashok Vihar Crossing', 'Bawana', 'Richi Rich Shalimar Bagh', 'Nirankari Colony', 'Jain Mandir', 'Prehladpur Village', 'Wazirabad Village (Burari)', 'Shahbad Daulatpur Gaon', 'GTK Depot', 'Delhi Engg College Shahbad', 'Bajitpur Mandir', 'Rohini West Metro Station', 'MCD Store (Rajpur Road)', 'Bawana School', 'Kohat Enclave Metro Station', 'ISBT Kashmere Gate Metro Station', 'DSIDC Bawana/ Dhakewala', 'Mall Road', 'Jawahar Navodya School', 'New Sabzi Mandi Azadpur', 'Bawana Soap Factory', 'Pitampura ND Block', 'Vishwa Vidyalaya Metro Station', 'Shahbad Daulatpur School', 'Rohini DTC Depot 4', 'Dhaka Village', 'Sec-24 Rohini Main Road', 'Jahangirpuri GT Road (Metro Station)', 'PS Bawana', 'GTB Nagar', 'Delhi Gate', 'Jain Colony', 'Nangli Poona (GT Road)', 'Nangal Thakran', 'Vaishali Enclave / Kapil Vihar', 'Maharishi Valmiki Hospital', 'Haiderpur Metro Station', 'Bajitpur Village', 'Lakhhi Ram Park', 'CV Raman ITI', 'Prehladpur Crossing', 'Exchange Store (Hill Road)', 'Barwala Village', 'Express Building / Shaheed Park (Bhagat Singh Terminal)', 'Madhuban Chowk', 'GPO', 'Police Station Begumpur', 'Azadpur Terminal', 'DSIDC Office Bawana', 'Libas Pur GT Road', 'Rohini Sec 35', 'Rithala Village', 'Katewara Village', 'Rohini Sec 23 Pocket 1 (Green Hill Aptt.)', 'Novelty Cinema', 'Poothkhurd Village', 'Rohini Sec 7 and 8 Crossing', 'Mandi House', 'TB Hospital', 'Rithala Metro Station', 'Badli Village', 'Alipur Village GT Road', 'Shivaji Stadium Terminal', 'Nirankari Sarover- Burari Xing', 'Shahbad Dairy A Block', 'Bawana Depot', 'Jind Pur Crossing', 'Mahindra Park', 'Katewara Crossing', 'Poothkalan More', 'Auchandi Border', 'Rohini Sec 27 and 30 Crossing', 'Shaheed Captain Vikram Batra Flyover', 'Poothkhurd Firni Road', 'Madhuban Chowk Pitampura Metro Stn', 'Rajpur Road Transport Deptt', 'Harewali Crossing', 'Aditi College Bawana', 'Vidhan Sabha Metro Station', 'Jharoda Metro Station', 'Pal Colony', 'Swaroop Nagar GT Road', 'Jama Masjid', 'Jail Road Rohini Sec 18', 'Balmiki Gandhi Ashram', 'Rohini Sec 20/21/22 Crossing', 'Model Town II', 'ISBT Nityanand Marg', 'Alpana Cinema (Model Town Mtr Stn)', 'Prem Bari Pull', 'Ludlow Castle', 'Red Fort', 'Guru Govind Singh University (Kashmere Gate)', 'Tilak Bridge', 'Shri Krishna Apartments', 'B.R. International School', 'Dariyapur Kalan School', 'Rohini Sec 22 Terminal', 'Rohini Sec-16 Xing', 'Wazirpur Depot / Subhash Place Depot', 'Scindia House', 'Rohini Sec 18 Pocket A', 'Rohini Sec-21', 'Exchange Store / Civil Lines Metro Station', 'Dariyapur Gaon', 'Gurudwara Siraspur GT Road', 'Rohini Sec 18 B Block', 'Shahbad Dairy', 'Mori Gate Terminal', 'Aruna Asaf Ali Hospital', 'Darya Ganj Golcha Cinema', 'Sarai Pipal Thala', 'Rohini Sec-9', 'Hanuman Mandir Rohini Sec 24', 'Auchandi Sarvodaya School', 'St. Xavier School Shahbad', 'Rohini Depot 1 Sec 6', 'Qutub Garh Village (T)', 'Mungeshpur Village', 'Bawana Dispensary', 'Prehladpur School', 'Bajit Pur Crossing', 'ITO', 'Sai Mandir', 'Model Town III', ['Kasturba Gandhi Road Crossing', 'Auchandi Village', 'Rohini Sec 23', 'Khyber Pass', 'Fire Station Sec-8', 'Sultan Pur Crossing / Poothkhurd', 'Adarsh Nagar Metro Station', 'Pitampura JD Block', 'Netaji Subhash Palace (Wazirpur Depot) Road No 41', 'Max Muller Bhawan', 'New Police Line', 'Dera Satguru Sewaram Sahai Sec 24/25 Crossing', 'Budhpur GT Road', 'Rohini Sec 18 B-7 Road', 'Mcd Store', 'Burari Metro Station', 'IP College', 'Old Delhi Railway Station', 'Radio Colony']"
   ]
  },
  {
   "cell_type": "code",
   "execution_count": 5,
   "metadata": {},
   "outputs": [
    {
     "data": {
      "text/plain": [
       "[('29.03880045', '76.48792045')]"
      ]
     },
     "execution_count": 5,
     "metadata": {},
     "output_type": "execute_result"
    }
   ],
   "source": [
    "reg.findall(\"center=29.03880045%2C76.48792045&\")"
   ]
  },
  {
   "cell_type": "code",
   "execution_count": 6,
   "metadata": {},
   "outputs": [],
   "source": [
    "coord = defaultdict(lambda : {'lat':None,'long':None})"
   ]
  },
  {
   "cell_type": "code",
   "execution_count": 16,
   "metadata": {},
   "outputs": [
    {
     "name": "stdout",
     "output_type": "stream",
     "text": [
      "Kasturba Gandhi Road Crossing done => {'lat': 28.6233675, 'long': 77.2266695}\n",
      "Auchandi Village done => {'lat': 28.821976, 'long': 76.9939971}\n",
      "Rohini Sec 23 done => {'lat': 28.72089475, 'long': 77.0801056}\n",
      "Khyber Pass done => {'lat': 28.68895395, 'long': 77.223337}\n",
      "Fire Station Sec-8 done => {'lat': 28.706946, 'long': 77.12687345}\n",
      "Sultan Pur Crossing / Poothkhurd done => {'lat': 28.76787, 'long': 77.04942}\n",
      "Adarsh Nagar Metro Station done => {'lat': 28.71543, 'long': 77.16872125}\n",
      "Pitampura JD Block done => {'lat': 28.70131295, 'long': 77.136662}\n",
      "Netaji Subhash Palace (Wazirpur Depot) Road No 41 done => {'lat': 28.69415, 'long': 77.15103}\n",
      "Max Muller Bhawan done => {'lat': 28.623891, 'long': 77.224235}\n",
      "New Police Line done => {'lat': 28.6997037, 'long': 77.19727175}\n",
      "Dera Satguru Sewaram Sahai Sec 24/25 Crossing done => {'lat': 28.72976, 'long': 77.094635}\n",
      "Budhpur GT Road done => {'lat': 28.78185, 'long': 77.14112}\n",
      "Rohini Sec 18 B-7 Road done => {'lat': 28.74039645, 'long': 77.13461095}\n",
      "Mcd Store done => {'lat': 28.61477295, 'long': 77.1895131}\n",
      "Burari Metro Station done => {'lat': 28.7298264, 'long': 77.1993719}\n",
      "IP College done => {'lat': 28.6806223, 'long': 77.2247351}\n",
      "Old Delhi Railway Station done => {'lat': 28.6530533, 'long': 77.23256395}\n",
      "Radio Colony done => {'lat': 28.71070925, 'long': 77.2049192}\n"
     ]
    }
   ],
   "source": [
    "for i in ['Kasturba Gandhi Road Crossing', 'Auchandi Village', 'Rohini Sec 23', 'Khyber Pass', 'Fire Station Sec-8', 'Sultan Pur Crossing / Poothkhurd', 'Adarsh Nagar Metro Station', 'Pitampura JD Block', 'Netaji Subhash Palace (Wazirpur Depot) Road No 41', 'Max Muller Bhawan', 'New Police Line', 'Dera Satguru Sewaram Sahai Sec 24/25 Crossing', 'Budhpur GT Road', 'Rohini Sec 18 B-7 Road', 'Mcd Store', 'Burari Metro Station', 'IP College', 'Old Delhi Railway Station', 'Radio Colony']:\n",
    "    \n",
    "    url = f'https://www.google.com/maps/search/{i.replace(' ','+')}+delhi+india'\n",
    "    res = requests.get(url=url)\n",
    "    res.raise_for_status()\n",
    "\n",
    "    soup = BeautifulSoup(res.text,\"html.parser\")\n",
    "    link = str(soup.find('meta', {'itemprop': 'image'}))\n",
    "\n",
    "    if link:\n",
    "        coord_ = list(map(lambda x: (float(x[0]),float(x[1])),reg.findall(link)))\n",
    "        \n",
    "        if len(coord_)>0:\n",
    "            coord[i][\"lat\"] = coord_[0][0]\n",
    "            coord[i][\"long\"] = coord_[0][1]\n",
    "    \n",
    "    print(f'{i} done => {coord[i]}')\n",
    "        "
   ]
  },
  {
   "cell_type": "code",
   "execution_count": 17,
   "metadata": {},
   "outputs": [
    {
     "name": "stdout",
     "output_type": "stream",
     "text": [
      "defaultdict(<function <lambda> at 0x000002143AE8BA60>, {'Barwala School': {'lat': 29.03880045, 'long': 76.48792045}, 'Rohini Sec 18': {'lat': 28.7411639, 'long': 77.13461095}, 'Badli Crossing': {'lat': 28.728372, 'long': 77.14625}, 'Old Secretariat (Postal Account Office)': {'lat': 28.6838315, 'long': 77.222193}, 'Tees Hazari Court': {'lat': 28.6658365, 'long': 77.2182571}, 'Sanjay Gandhi Transport Nagar': {'lat': 28.73766725, 'long': 77.1485955}, 'PNB STA Road': {'lat': 28.65434645, 'long': 77.12402455}, 'INS Hostel': {'lat': 28.5203691, 'long': 77.205226}, 'Rohini Sec 24 Dear Satguru Sewaram Crossing': {'lat': 28.72827, 'long': 77.092445}, 'Rohini Sec-9 /7': {'lat': 28.7182518, 'long': 77.1256835}, 'Ashok Vihar Crossing': {'lat': 28.701915, 'long': 77.16475225}, 'Bawana': {'lat': 28.8030391, 'long': 77.0539105}, 'Richi Rich Shalimar Bagh': {'lat': 28.7014916, 'long': 77.1615505}, 'Nirankari Colony': {'lat': 28.7157968, 'long': 77.2058565}, 'Jain Mandir': {'lat': 28.61036955, 'long': 77.1961608}, 'Prehladpur Village': {'lat': 28.4977795, 'long': 77.2928134}, 'Wazirabad Village (Burari)': {'lat': 28.72949795, 'long': 77.224515}, 'Shahbad Daulatpur Gaon': {'lat': 28.75005, 'long': 77.1114609}, 'GTK Depot': {'lat': 28.731041, 'long': 77.158627}, 'Delhi Engg College Shahbad': {'lat': 28.7475763, 'long': 77.1165316}, 'Bajitpur Mandir': {'lat': 28.8036498, 'long': 76.9979003}, 'Rohini West Metro Station': {'lat': 28.7151345, 'long': 77.11511515}, 'MCD Store (Rajpur Road)': {'lat': 29.47711945, 'long': 77.57706345}, 'Bawana School': {'lat': 28.8055471, 'long': 77.04041115}, 'Kohat Enclave Metro Station': {'lat': 28.69799, 'long': 77.14064}, 'ISBT Kashmere Gate Metro Station': {'lat': 28.6679689, 'long': 77.229164}, 'DSIDC Bawana/ Dhakewala': {'lat': 28.7957686, 'long': 77.06107745}, 'Mall Road': {'lat': 28.6990491, 'long': 77.2038962}, 'Jawahar Navodya School': {'lat': 28.70251055, 'long': 76.93822955}, 'New Sabzi Mandi Azadpur': {'lat': 28.712406, 'long': 77.1707845}, 'Bawana Soap Factory': {'lat': 28.79325235, 'long': 77.0849543}, 'Pitampura ND Block': {'lat': 28.69896545, 'long': 77.1448565}, 'Vishwa Vidyalaya Metro Station': {'lat': 28.69519, 'long': 77.21451}, 'Shahbad Daulatpur School': {'lat': 28.74836185, 'long': 77.1040083}, 'Rohini DTC Depot 4': {'lat': 28.73048, 'long': 77.12136915}, 'Dhaka Village': {'lat': 28.708699, 'long': 77.206346}, 'Sec-24 Rohini Main Road': {'lat': 28.72975695, 'long': 77.087787}, 'Jahangirpuri GT Road (Metro Station)': {'lat': 28.726239, 'long': 77.1622565}, 'PS Bawana': {'lat': 28.80152875, 'long': 77.03242995}, 'GTB Nagar': {'lat': 28.6987871, 'long': 77.20402655}, 'Delhi Gate': {'lat': 28.6411903, 'long': 77.2405826}, 'Jain Colony': {'lat': 28.72782645, 'long': 77.05648}, 'Nangli Poona (GT Road)': {'lat': 28.7462504, 'long': 77.1519136}, 'Nangal Thakran': {'lat': 28.80779495, 'long': 77.009763}, 'Vaishali Enclave / Kapil Vihar': {'lat': 24.05541225, 'long': 78.9928972}, 'Maharishi Valmiki Hospital': {'lat': 28.7757959, 'long': 77.0484819}, 'Haiderpur Metro Station': {'lat': 28.7300015, 'long': 77.1491765}, 'Bajitpur Village': {'lat': 28.79782505, 'long': 76.9928449}, 'Lakhhi Ram Park': {'lat': 28.7138299, 'long': 77.0580125}, 'CV Raman ITI': {'lat': None, 'long': None}, 'Prehladpur Crossing': {'lat': 28.7176791, 'long': 77.0770252}, 'Exchange Store (Hill Road)': {'lat': 28.677785, 'long': 77.22304}, 'Barwala Village': {'lat': 28.7619341, 'long': 77.062134}, 'Express Building / Shaheed Park (Bhagat Singh Terminal)': {'lat': 18.9337818, 'long': 72.826862}, 'Madhuban Chowk': {'lat': 28.703642, 'long': 77.13055}, 'GPO': {'lat': 28.6287603, 'long': 77.2061904}, 'Police Station Begumpur': {'lat': 28.7223706, 'long': 77.0722433}, 'Azadpur Terminal': {'lat': 28.70752, 'long': 77.1778}, 'DSIDC Office Bawana': {'lat': 28.78715425, 'long': 77.04072465}, 'Libas Pur GT Road': {'lat': 28.750527, 'long': 77.14632845}, 'Rohini Sec 35': {'lat': 28.7608449, 'long': 77.06927345}, 'Rithala Village': {'lat': 28.722013, 'long': 77.10158705}, 'Katewara Village': {'lat': 28.8003645, 'long': 76.974637}, 'Rohini Sec 23 Pocket 1 (Green Hill Aptt.)': {'lat': 28.7193606, 'long': 77.083982}, 'Novelty Cinema': {'lat': 28.6615909, 'long': 77.220298}, 'Poothkhurd Village': {'lat': 28.7705925, 'long': 77.05186995}, 'Rohini Sec 7 and 8 Crossing': {'lat': 28.7083005, 'long': 77.1253316}, 'Mandi House': {'lat': 28.628197, 'long': 77.2323435}, 'TB Hospital': {'lat': 28.6249181, 'long': 77.18375955}, 'Rithala Metro Station': {'lat': 28.72000605, 'long': 77.1046658}, 'Badli Village': {'lat': 28.7339411, 'long': 77.14466905}, 'Alipur Village GT Road': {'lat': 28.7967, 'long': 77.139515}, 'Shivaji Stadium Terminal': {'lat': 28.632754, 'long': 77.2153605}, 'Nirankari Sarover- Burari Xing': {'lat': 28.7274581, 'long': 77.1979306}, 'Shahbad Dairy A Block': {'lat': 28.7424848, 'long': 77.1114656}, 'Bawana Depot': {'lat': 28.8037875, 'long': 77.028429}, 'Jind Pur Crossing': {'lat': 28.7933605, 'long': 77.1442015}, 'Mahindra Park': {'lat': 28.61783245, 'long': 77.0756}, 'Katewara Crossing': {'lat': 28.8061, 'long': 76.96585}, 'Poothkalan More': {'lat': 28.711439, 'long': 77.07840105}, 'Auchandi Border': {'lat': 28.820834, 'long': 76.9961933}, 'Rohini Sec 27 and 30 Crossing': {'lat': 28.748537, 'long': 77.088829}, 'Shaheed Captain Vikram Batra Flyover': {'lat': 28.7346267, 'long': 77.1555755}, 'Poothkhurd Firni Road': {'lat': 28.77123945, 'long': 77.0515802}, 'Madhuban Chowk Pitampura Metro Stn': {'lat': 28.70285, 'long': 77.13305}, 'Rajpur Road Transport Deptt': {'lat': 28.6794334, 'long': 77.218627}, 'Harewali Crossing': {'lat': 28.83032855, 'long': 77.0119605}, 'Aditi College Bawana': {'lat': 28.7955288, 'long': 77.036219}, 'Vidhan Sabha Metro Station': {'lat': 28.6874886, 'long': 77.2216598}, 'Jharoda Metro Station': {'lat': 28.7249785, 'long': 77.2134553}, 'Pal Colony': {'lat': 28.7235, 'long': 77.1036}, 'Swaroop Nagar GT Road': {'lat': 28.75807375, 'long': 77.1478755}, 'Jama Masjid': {'lat': 28.650763, 'long': 77.23617795}, 'Jail Road Rohini Sec 18': {'lat': 28.7274, 'long': 77.1433055}, 'Balmiki Gandhi Ashram': {'lat': 28.6053885, 'long': 77.21299625}, 'Rohini Sec 20/21/22 Crossing': {'lat': 28.7100416, 'long': 77.072268}, 'Model Town II': {'lat': 28.7089611, 'long': 77.1901411}, 'ISBT Nityanand Marg': {'lat': 28.668361, 'long': 77.224926}, 'Alpana Cinema (Model Town Mtr Stn)': {'lat': 28.702865, 'long': 77.193775}, 'Prem Bari Pull': {'lat': 28.700313, 'long': 77.158346}, 'Ludlow Castle': {'lat': 28.6736325, 'long': 77.22149255}, 'Red Fort': {'lat': 28.6549396, 'long': 77.2416195}, 'Guru Govind Singh University (Kashmere Gate)': {'lat': 28.665243, 'long': 77.230164}, 'Tilak Bridge': {'lat': 28.6270671, 'long': 77.23904135}, 'Shri Krishna Apartments': {'lat': 28.64777135, 'long': 77.15658385}, 'B.R. International School': {'lat': 28.8222128, 'long': 76.9772378}, 'Dariyapur Kalan School': {'lat': 28.8085806, 'long': 77.0145531}, 'Rohini Sec 22 Terminal': {'lat': 28.71797415, 'long': 77.0638631}, 'Rohini Sec-16 Xing': {'lat': 28.73737155, 'long': 77.1073584}, 'Wazirpur Depot / Subhash Place Depot': {'lat': 28.693422, 'long': 77.15501085}, 'Scindia House': {'lat': 28.629751, 'long': 77.2204167}, 'Rohini Sec 18 Pocket A': {'lat': 28.73419445, 'long': 77.11820805}, 'Rohini Sec-21': {'lat': 28.7141266, 'long': 77.06764555}, 'Exchange Store / Civil Lines Metro Station': {'lat': 23.8533175, 'long': 75.0266154}, 'Dariyapur Gaon': {'lat': 28.5455375, 'long': 76.9154065}, 'Gurudwara Siraspur GT Road': {'lat': 28.76486, 'long': 77.14532}, 'Rohini Sec 18 B Block': {'lat': 28.73419445, 'long': 77.11820805}, 'Shahbad Dairy': {'lat': 28.7420934, 'long': 77.10335945}, 'Mori Gate Terminal': {'lat': 28.666431, 'long': 77.22375865}, 'Aruna Asaf Ali Hospital': {'lat': 28.6697756, 'long': 77.2178505}, 'Darya Ganj Golcha Cinema': {'lat': 28.6443206, 'long': 77.2401664}, 'Sarai Pipal Thala': {'lat': 28.71795045, 'long': 77.167034}, 'Rohini Sec-9': {'lat': 28.7182518, 'long': 77.1256835}, 'Hanuman Mandir Rohini Sec 24': {'lat': 28.73612875, 'long': 77.0992117}, 'Auchandi Sarvodaya School': {'lat': 28.82000735, 'long': 76.99823535}, 'St. Xavier School Shahbad': {'lat': 28.7435598, 'long': 77.1030993}, 'Rohini Depot 1 Sec 6': {'lat': 28.71645, 'long': 77.11347}, 'Qutub Garh Village (T)': {'lat': 28.6937518, 'long': 77.0549732}, 'Mungeshpur Village': {'lat': 28.81914595, 'long': 76.97177045}, 'Bawana Dispensary': {'lat': 28.7974557, 'long': 77.07749635}, 'Prehladpur School': {'lat': 28.62474545, 'long': 77.1866524}, 'Bajit Pur Crossing': {'lat': 28.798305, 'long': 77.017495}, 'ITO': {'lat': 28.63169505, 'long': 77.2518019}, 'Sai Mandir': {'lat': 28.61376845, 'long': 77.13954455}, 'Model Town III': {'lat': 28.70543055, 'long': 77.1860871}, 'Kasturba Gandhi Road Crossing': {'lat': 28.6233675, 'long': 77.2266695}, 'Auchandi Village': {'lat': 28.821976, 'long': 76.9939971}, 'Rohini Sec 23': {'lat': 28.72089475, 'long': 77.0801056}, 'Khyber Pass': {'lat': 28.68895395, 'long': 77.223337}, 'Fire Station Sec-8': {'lat': 28.706946, 'long': 77.12687345}, 'Sultan Pur Crossing / Poothkhurd': {'lat': 28.76787, 'long': 77.04942}, 'Adarsh Nagar Metro Station': {'lat': 28.71543, 'long': 77.16872125}, 'Pitampura JD Block': {'lat': 28.70131295, 'long': 77.136662}, 'Netaji Subhash Palace (Wazirpur Depot) Road No 41': {'lat': 28.69415, 'long': 77.15103}, 'Max Muller Bhawan': {'lat': 28.623891, 'long': 77.224235}, 'New Police Line': {'lat': 28.6997037, 'long': 77.19727175}, 'Dera Satguru Sewaram Sahai Sec 24/25 Crossing': {'lat': 28.72976, 'long': 77.094635}, 'Budhpur GT Road': {'lat': 28.78185, 'long': 77.14112}, 'Rohini Sec 18 B-7 Road': {'lat': 28.74039645, 'long': 77.13461095}, 'Mcd Store': {'lat': 28.61477295, 'long': 77.1895131}, 'Burari Metro Station': {'lat': 28.7298264, 'long': 77.1993719}, 'IP College': {'lat': 28.6806223, 'long': 77.2247351}, 'Old Delhi Railway Station': {'lat': 28.6530533, 'long': 77.23256395}, 'Radio Colony': {'lat': 28.71070925, 'long': 77.2049192}})\n"
     ]
    }
   ],
   "source": [
    "print(coord)"
   ]
  },
  {
   "cell_type": "markdown",
   "metadata": {},
   "source": [
    "{\"Barwala School\": {\"lat\": 29.03880045, \"long\": 76.48792045}, \"Rohini Sec 18\": {\"lat\": 28.7411639, \"long\": 77.13461095}, \"Badli Crossing\": {\"lat\": 28.728372, \"long\": 77.14625}, \"Old Secretariat (Postal Account Office)\": {\"lat\": 28.6838315, \"long\": 77.222193}, \"Tees Hazari Court\": {\"lat\": 28.6658365, \"long\": 77.2182571}, \"Sanjay Gandhi Transport Nagar\": {\"lat\": 28.73766725, \"long\": 77.1485955}, \"PNB STA Road\": {\"lat\": 28.65434645, \"long\": 77.12402455}, \"INS Hostel\": {\"lat\": 28.5203691, \"long\": 77.205226}, \"Rohini Sec 24 Dear Satguru Sewaram Crossing\": {\"lat\": 28.72827, \"long\": 77.092445}, \"Rohini Sec-9 /7\": {\"lat\": 28.7182518, \"long\": 77.1256835}, \"Ashok Vihar Crossing\": {\"lat\": 28.701915, \"long\": 77.16475225}, \"Bawana\": {\"lat\": 28.8030391, \"long\": 77.0539105}, \"Richi Rich Shalimar Bagh\": {\"lat\": 28.7014916, \"long\": 77.1615505}, \"Nirankari Colony\": {\"lat\": 28.7157968, \"long\": 77.2058565}, \"Jain Mandir\": {\"lat\": 28.61036955, \"long\": 77.1961608}, \"Prehladpur Village\": {\"lat\": 28.4977795, \"long\": 77.2928134}, \"Wazirabad Village (Burari)\": {\"lat\": 28.72949795, \"long\": 77.224515}, \"Shahbad Daulatpur Gaon\": {\"lat\": 28.75005, \"long\": 77.1114609}, \"GTK Depot\": {\"lat\": 28.731041, \"long\": 77.158627}, \"Delhi Engg College Shahbad\": {\"lat\": 28.7475763, \"long\": 77.1165316}, \"Bajitpur Mandir\": {\"lat\": 28.8036498, \"long\": 76.9979003}, \"Rohini West Metro Station\": {\"lat\": 28.7151345, \"long\": 77.11511515}, \"MCD Store (Rajpur Road)\": {\"lat\": 29.47711945, \"long\": 77.57706345}, \"Bawana School\": {\"lat\": 28.8055471, \"long\": 77.04041115}, \"Kohat Enclave Metro Station\": {\"lat\": 28.69799, \"long\": 77.14064}, \"ISBT Kashmere Gate Metro Station\": {\"lat\": 28.6679689, \"long\": 77.229164}, \"DSIDC Bawana/ Dhakewala\": {\"lat\": 28.7957686, \"long\": 77.06107745}, \"Mall Road\": {\"lat\": 28.6990491, \"long\": 77.2038962}, \"Jawahar Navodya School\": {\"lat\": 28.70251055, \"long\": 76.93822955}, \"New Sabzi Mandi Azadpur\": {\"lat\": 28.712406, \"long\": 77.1707845}, \"Bawana Soap Factory\": {\"lat\": 28.79325235, \"long\": 77.0849543}, \"Pitampura ND Block\": {\"lat\": 28.69896545, \"long\": 77.1448565}, \"Vishwa Vidyalaya Metro Station\": {\"lat\": 28.69519, \"long\": 77.21451}, \"Shahbad Daulatpur School\": {\"lat\": 28.74836185, \"long\": 77.1040083}, \"Rohini DTC Depot 4\": {\"lat\": 28.73048, \"long\": 77.12136915}, \"Dhaka Village\": {\"lat\": 28.708699, \"long\": 77.206346}, \"Sec-24 Rohini Main Road\": {\"lat\": 28.72975695, \"long\": 77.087787}, \"Jahangirpuri GT Road (Metro Station)\": {\"lat\": 28.726239, \"long\": 77.1622565}, \"PS Bawana\": {\"lat\": 28.80152875, \"long\": 77.03242995}, \"GTB Nagar\": {\"lat\": 28.6987871, \"long\": 77.20402655}, \"Delhi Gate\": {\"lat\": 28.6411903, \"long\": 77.2405826}, \"Jain Colony\": {\"lat\": 28.72782645, \"long\": 77.05648}, \"Nangli Poona (GT Road)\": {\"lat\": 28.7462504, \"long\": 77.1519136}, \"Nangal Thakran\": {\"lat\": 28.80779495, \"long\": 77.009763}, \"Vaishali Enclave / Kapil Vihar\": {\"lat\": 24.05541225, \"long\": 78.9928972}, \"Maharishi Valmiki Hospital\": {\"lat\": 28.7757959, \"long\": 77.0484819}, \"Haiderpur Metro Station\": {\"lat\": 28.7300015, \"long\": 77.1491765}, \"Bajitpur Village\": {\"lat\": 28.79782505, \"long\": 76.9928449}, \"Lakhhi Ram Park\": {\"lat\": 28.7138299, \"long\": 77.0580125}, \"CV Raman ITI\": {\"lat\": 28.72726881681693, \"long\": 77.20377458822789}, \"Prehladpur Crossing\": {\"lat\": 28.7176791, \"long\": 77.0770252}, \"Exchange Store (Hill Road)\": {\"lat\": 28.677785, \"long\": 77.22304}, \"Barwala Village\": {\"lat\": 28.7619341, \"long\": 77.062134}, \"Express Building / Shaheed Park (Bhagat Singh Terminal)\": {\"lat\": 18.9337818, \"long\": 72.826862}, \"Madhuban Chowk\": {\"lat\": 28.703642, \"long\": 77.13055}, \"GPO\": {\"lat\": 28.6287603, \"long\": 77.2061904}, \"Police Station Begumpur\": {\"lat\": 28.7223706, \"long\": 77.0722433}, \"Azadpur Terminal\": {\"lat\": 28.70752, \"long\": 77.1778}, \"DSIDC Office Bawana\": {\"lat\": 28.78715425, \"long\": 77.04072465}, \"Libas Pur GT Road\": {\"lat\": 28.750527, \"long\": 77.14632845}, \"Rohini Sec 35\": {\"lat\": 28.7608449, \"long\": 77.06927345}, \"Rithala Village\": {\"lat\": 28.722013, \"long\": 77.10158705}, \"Katewara Village\": {\"lat\": 28.8003645, \"long\": 76.974637}, \"Rohini Sec 23 Pocket 1 (Green Hill Aptt.)\": {\"lat\": 28.7193606, \"long\": 77.083982}, \"Novelty Cinema\": {\"lat\": 28.6615909, \"long\": 77.220298}, \"Poothkhurd Village\": {\"lat\": 28.7705925, \"long\": 77.05186995}, \"Rohini Sec 7 and 8 Crossing\": {\"lat\": 28.7083005, \"long\": 77.1253316}, \"Mandi House\": {\"lat\": 28.628197, \"long\": 77.2323435}, \"TB Hospital\": {\"lat\": 28.6249181, \"long\": 77.18375955}, \"Rithala Metro Station\": {\"lat\": 28.72000605, \"long\": 77.1046658}, \"Badli Village\": {\"lat\": 28.7339411, \"long\": 77.14466905}, \"Alipur Village GT Road\": {\"lat\": 28.7967, \"long\": 77.139515}, \"Shivaji Stadium Terminal\": {\"lat\": 28.632754, \"long\": 77.2153605}, \"Nirankari Sarover- Burari Xing\": {\"lat\": 28.7274581, \"long\": 77.1979306}, \"Shahbad Dairy A Block\": {\"lat\": 28.7424848, \"long\": 77.1114656}, \"Bawana Depot\": {\"lat\": 28.8037875, \"long\": 77.028429}, \"Jind Pur Crossing\": {\"lat\": 28.7933605, \"long\": 77.1442015}, \"Mahindra Park\": {\"lat\": 28.61783245, \"long\": 77.0756}, \"Katewara Crossing\": {\"lat\": 28.8061, \"long\": 76.96585}, \"Poothkalan More\": {\"lat\": 28.711439, \"long\": 77.07840105}, \"Auchandi Border\": {\"lat\": 28.820834, \"long\": 76.9961933}, \"Rohini Sec 27 and 30 Crossing\": {\"lat\": 28.748537, \"long\": 77.088829}, \"Shaheed Captain Vikram Batra Flyover\": {\"lat\": 28.7346267, \"long\": 77.1555755}, \"Poothkhurd Firni Road\": {\"lat\": 28.77123945, \"long\": 77.0515802}, \"Madhuban Chowk Pitampura Metro Stn\": {\"lat\": 28.70285, \"long\": 77.13305}, \"Rajpur Road Transport Deptt\": {\"lat\": 28.6794334, \"long\": 77.218627}, \"Harewali Crossing\": {\"lat\": 28.83032855, \"long\": 77.0119605}, \"Aditi College Bawana\": {\"lat\": 28.7955288, \"long\": 77.036219}, \"Vidhan Sabha Metro Station\": {\"lat\": 28.6874886, \"long\": 77.2216598}, \"Jharoda Metro Station\": {\"lat\": 28.7249785, \"long\": 77.2134553}, \"Pal Colony\": {\"lat\": 28.7235, \"long\": 77.1036}, \"Swaroop Nagar GT Road\": {\"lat\": 28.75807375, \"long\": 77.1478755}, \"Jama Masjid\": {\"lat\": 28.650763, \"long\": 77.23617795}, \"Jail Road Rohini Sec 18\": {\"lat\": 28.7274, \"long\": 77.1433055}, \"Balmiki Gandhi Ashram\": {\"lat\": 28.6053885, \"long\": 77.21299625}, \"Rohini Sec 20/21/22 Crossing\": {\"lat\": 28.7100416, \"long\": 77.072268}, \"Model Town II\": {\"lat\": 28.7089611, \"long\": 77.1901411}, \"ISBT Nityanand Marg\": {\"lat\": 28.668361, \"long\": 77.224926}, \"Alpana Cinema (Model Town Mtr Stn)\": {\"lat\": 28.702865, \"long\": 77.193775}, \"Prem Bari Pull\": {\"lat\": 28.700313, \"long\": 77.158346}, \"Ludlow Castle\": {\"lat\": 28.6736325, \"long\": 77.22149255}, \"Red Fort\": {\"lat\": 28.6549396, \"long\": 77.2416195}, \"Guru Govind Singh University (Kashmere Gate)\": {\"lat\": 28.665243, \"long\": 77.230164}, \"Tilak Bridge\": {\"lat\": 28.6270671, \"long\": 77.23904135}, \"Shri Krishna Apartments\": {\"lat\": 28.64777135, \"long\": 77.15658385}, \"B.R. International School\": {\"lat\": 28.8222128, \"long\": 76.9772378}, \"Dariyapur Kalan School\": {\"lat\": 28.8085806, \"long\": 77.0145531}, \"Rohini Sec 22 Terminal\": {\"lat\": 28.71797415, \"long\": 77.0638631}, \"Rohini Sec-16 Xing\": {\"lat\": 28.73737155, \"long\": 77.1073584}, \"Wazirpur Depot / Subhash Place Depot\": {\"lat\": 28.693422, \"long\": 77.15501085}, \"Scindia House\": {\"lat\": 28.629751, \"long\": 77.2204167}, \"Rohini Sec 18 Pocket A\": {\"lat\": 28.73419445, \"long\": 77.11820805}, \"Rohini Sec-21\": {\"lat\": 28.7141266, \"long\": 77.06764555}, \"Exchange Store / Civil Lines Metro Station\": {\"lat\": 23.8533175, \"long\": 75.0266154}, \"Dariyapur Gaon\": {\"lat\": 28.5455375, \"long\": 76.9154065}, \"Gurudwara Siraspur GT Road\": {\"lat\": 28.76486, \"long\": 77.14532}, \"Rohini Sec 18 B Block\": {\"lat\": 28.73419445, \"long\": 77.11820805}, \"Shahbad Dairy\": {\"lat\": 28.7420934, \"long\": 77.10335945}, \"Mori Gate Terminal\": {\"lat\": 28.666431, \"long\": 77.22375865}, \"Aruna Asaf Ali Hospital\": {\"lat\": 28.6697756, \"long\": 77.2178505}, \"Darya Ganj Golcha Cinema\": {\"lat\": 28.6443206, \"long\": 77.2401664}, \"Sarai Pipal Thala\": {\"lat\": 28.71795045, \"long\": 77.167034}, \"Rohini Sec-9\": {\"lat\": 28.7182518, \"long\": 77.1256835}, \"Hanuman Mandir Rohini Sec 24\": {\"lat\": 28.73612875, \"long\": 77.0992117}, \"Auchandi Sarvodaya School\": {\"lat\": 28.82000735, \"long\": 76.99823535}, \"St. Xavier School Shahbad\": {\"lat\": 28.7435598, \"long\": 77.1030993}, \"Rohini Depot 1 Sec 6\": {\"lat\": 28.71645, \"long\": 77.11347}, \"Qutub Garh Village (T)\": {\"lat\": 28.6937518, \"long\": 77.0549732}, \"Mungeshpur Village\": {\"lat\": 28.81914595, \"long\": 76.97177045}, \"Bawana Dispensary\": {\"lat\": 28.7974557, \"long\": 77.07749635}, \"Prehladpur School\": {\"lat\": 28.62474545, \"long\": 77.1866524}, \"Bajit Pur Crossing\": {\"lat\": 28.798305, \"long\": 77.017495}, \"ITO\": {\"lat\": 28.63169505, \"long\": 77.2518019}, \"Sai Mandir\": {\"lat\": 28.61376845, \"long\": 77.13954455}, \"Model Town III\": {\"lat\": 28.70543055, \"long\": 77.1860871}, \"Kasturba Gandhi Road Crossing\": {\"lat\": 28.6233675, \"long\": 77.2266695}, \"Auchandi Village\": {\"lat\": 28.821976, \"long\": 76.9939971}, \"Rohini Sec 23\": {\"lat\": 28.72089475, \"long\": 77.0801056}, \"Khyber Pass\": {\"lat\": 28.68895395, \"long\": 77.223337}, \"Fire Station Sec-8\": {\"lat\": 28.706946, \"long\": 77.12687345}, \"Sultan Pur Crossing / Poothkhurd\": {\"lat\": 28.76787, \"long\": 77.04942}, \"Adarsh Nagar Metro Station\": {\"lat\": 28.71543, \"long\": 77.16872125}, \"Pitampura JD Block\": {\"lat\": 28.70131295, \"long\": 77.136662}, \"Netaji Subhash Palace (Wazirpur Depot) Road No 41\": {\"lat\": 28.69415, \"long\": 77.15103}, \"Max Muller Bhawan\": {\"lat\": 28.623891, \"long\": 77.224235}, \"New Police Line\": {\"lat\": 28.6997037, \"long\": 77.19727175}, \"Dera Satguru Sewaram Sahai Sec 24/25 Crossing\": {\"lat\": 28.72976, \"long\": 77.094635}, \"Budhpur GT Road\": {\"lat\": 28.78185, \"long\": 77.14112}, \"Rohini Sec 18 B-7 Road\": {\"lat\": 28.74039645, \"long\": 77.13461095}, \"Mcd Store\": {\"lat\": 28.61477295, \"long\": 77.1895131}, \"Burari Metro Station\": {\"lat\": 28.7298264, \"long\": 77.1993719}, \"IP College\": {\"lat\": 28.6806223, \"long\": 77.2247351}, \"Old Delhi Railway Station\": {\"lat\": 28.6530533, \"long\": 77.23256395}, \"Radio Colony\": {\"lat\": 28.71070925, \"long\": 77.2049192}}"
   ]
  },
  {
   "cell_type": "code",
   "execution_count": 19,
   "metadata": {},
   "outputs": [],
   "source": [
    "with open('route.json','w') as f:\n",
    "    json.dump(coord,f)"
   ]
  }
 ],
 "metadata": {
  "kernelspec": {
   "display_name": "tf",
   "language": "python",
   "name": "python3"
  },
  "language_info": {
   "codemirror_mode": {
    "name": "ipython",
    "version": 3
   },
   "file_extension": ".py",
   "mimetype": "text/x-python",
   "name": "python",
   "nbconvert_exporter": "python",
   "pygments_lexer": "ipython3",
   "version": "3.12.4"
  }
 },
 "nbformat": 4,
 "nbformat_minor": 2
}
