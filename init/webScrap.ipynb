{
 "cells": [
  {
   "cell_type": "code",
   "execution_count": 1,
   "metadata": {},
   "outputs": [],
   "source": [
    "import re, requests\n",
    "from bs4 import BeautifulSoup\n",
    "from collections import defaultdict\n",
    "import json\n"
   ]
  },
  {
   "cell_type": "code",
   "execution_count": 2,
   "metadata": {},
   "outputs": [],
   "source": [
    "reg = re.compile(r'center=(\\d+\\.\\d+)%2C(\\d+\\.\\d+)&')"
   ]
  },
  {
   "cell_type": "code",
   "execution_count": 3,
   "metadata": {},
   "outputs": [],
   "source": [
    "place = ['Barwala School', 'Rohini Sec 18', 'Badli Crossing', 'Old Secretariat (Postal Account Office)', 'Tees Hazari Court', 'Sanjay Gandhi Transport Nagar', 'PNB STA Road', 'INS Hostel', 'Rohini Sec 24 Dear Satguru Sewaram Crossing', 'Rohini Sec-9 /7', 'Ashok Vihar Crossing', 'Bawana', 'Richi Rich Shalimar Bagh', 'Nirankari Colony', 'Jain Mandir', 'Prehladpur Village', 'Wazirabad Village (Burari)', 'Shahbad Daulatpur Gaon', 'GTK Depot', 'Delhi Engg College Shahbad', 'Bajitpur Mandir', 'Rohini West Metro Station', 'MCD Store (Rajpur Road)', 'Bawana School', 'Kohat Enclave Metro Station', 'ISBT Kashmere Gate Metro Station', 'DSIDC Bawana/ Dhakewala', 'Mall Road', 'Jawahar Navodya School', 'New Sabzi Mandi Azadpur', 'Bawana Soap Factory', 'Pitampura ND Block', 'Vishwa Vidyalaya Metro Station', 'Shahbad Daulatpur School', 'Rohini DTC Depot 4', 'Dhaka Village', 'Sec-24 Rohini Main Road', 'Jahangirpuri GT Road (Metro Station)', 'PS Bawana', 'GTB Nagar', 'Delhi Gate', 'Jain Colony', 'Nangli Poona (GT Road)', 'Nangal Thakran', 'Vaishali Enclave / Kapil Vihar', 'Maharishi Valmiki Hospital', 'Haiderpur Metro Station', 'Bajitpur Village', 'Lakhhi Ram Park', 'CV Raman ITI', 'Prehladpur Crossing', 'Exchange Store (Hill Road)', 'Barwala Village', 'Express Building / Shaheed Park (Bhagat Singh Terminal)', 'Madhuban Chowk', 'GPO', 'Police Station Begumpur', 'Azadpur Terminal', 'DSIDC Office Bawana', 'Libas Pur GT Road', 'Rohini Sec 35', 'Rithala Village', 'Katewara Village', 'Rohini Sec 23 Pocket 1 (Green Hill Aptt.)', 'Novelty Cinema', 'Poothkhurd Village', 'Rohini Sec 7 and 8 Crossing', 'Mandi House', 'TB Hospital', 'Rithala Metro Station', 'Badli Village', 'Alipur Village GT Road', 'Shivaji Stadium Terminal', 'Nirankari Sarover- Burari Xing', 'Shahbad Dairy A Block', 'Bawana Depot', 'Jind Pur Crossing', 'Mahindra Park', 'Katewara Crossing', 'Poothkalan More', 'Auchandi Border', 'Rohini Sec 27 and 30 Crossing', 'Shaheed Captain Vikram Batra Flyover', 'Poothkhurd Firni Road', 'Madhuban Chowk Pitampura Metro Stn', 'Rajpur Road Transport Deptt', 'Harewali Crossing', 'Aditi College Bawana', 'Vidhan Sabha Metro Station', 'Jharoda Metro Station', 'Pal Colony', 'Swaroop Nagar GT Road', 'Jama Masjid', 'Jail Road Rohini Sec 18', 'Balmiki Gandhi Ashram', 'Rohini Sec 20/21/22 Crossing', 'Model Town II', 'ISBT Nityanand Marg', 'Alpana Cinema (Model Town Mtr Stn)', 'Prem Bari Pull', 'Ludlow Castle', 'Red Fort', 'Guru Govind Singh University (Kashmere Gate)', 'Tilak Bridge', 'Shri Krishna Apartments', 'B.R. International School', 'Dariyapur Kalan School', 'Rohini Sec 22 Terminal', 'Rohini Sec-16 Xing', 'Wazirpur Depot / Subhash Place Depot', 'Scindia House', 'Rohini Sec 18 Pocket A', 'Rohini Sec-21', 'Exchange Store / Civil Lines Metro Station', 'Dariyapur Gaon', 'Gurudwara Siraspur GT Road', 'Rohini Sec 18 B Block', 'Shahbad Dairy', 'Mori Gate Terminal', 'Aruna Asaf Ali Hospital', 'Darya Ganj Golcha Cinema', 'Sarai Pipal Thala', 'Rohini Sec-9', 'Hanuman Mandir Rohini Sec 24', 'Auchandi Sarvodaya School', 'St. Xavier School Shahbad', 'Rohini Depot 1 Sec 6', 'Qutub Garh Village (T)', 'Mungeshpur Village', 'Bawana Dispensary', 'Prehladpur School', 'Bajit Pur Crossing', 'ITO', 'Sai Mandir', 'Model Town III', 'Kasturba Gandhi Road Crossing', 'Auchandi Village', 'Rohini Sec 23', 'Khyber Pass', 'Fire Station Sec-8', 'Sultan Pur Crossing / Poothkhurd', 'Adarsh Nagar Metro Station', 'Pitampura JD Block', 'Netaji Subhash Palace (Wazirpur Depot) Road No 41', 'Max Muller Bhawan', 'New Police Line', 'Dera Satguru Sewaram Sahai Sec 24/25 Crossing', 'Budhpur GT Road', 'Rohini Sec 18 B-7 Road', 'Mcd Store', 'Burari Metro Station', 'IP College', 'Old Delhi Railway Station', 'Radio Colony']"
   ]
  },
  {
   "cell_type": "code",
   "execution_count": 4,
   "metadata": {},
   "outputs": [
    {
     "data": {
      "text/plain": [
       "{1: 'Barwala School',\n",
       " 2: 'Rohini Sec 18',\n",
       " 3: 'Badli Crossing',\n",
       " 4: 'Old Secretariat (Postal Account Office)',\n",
       " 5: 'Tees Hazari Court',\n",
       " 6: 'Sanjay Gandhi Transport Nagar',\n",
       " 7: 'PNB STA Road',\n",
       " 8: 'INS Hostel',\n",
       " 9: 'Rohini Sec 24 Dear Satguru Sewaram Crossing',\n",
       " 10: 'Rohini Sec-9 /7',\n",
       " 11: 'Ashok Vihar Crossing',\n",
       " 12: 'Bawana',\n",
       " 13: 'Richi Rich Shalimar Bagh',\n",
       " 14: 'Nirankari Colony',\n",
       " 15: 'Jain Mandir',\n",
       " 16: 'Prehladpur Village',\n",
       " 17: 'Wazirabad Village (Burari)',\n",
       " 18: 'Shahbad Daulatpur Gaon',\n",
       " 19: 'GTK Depot',\n",
       " 20: 'Delhi Engg College Shahbad',\n",
       " 21: 'Bajitpur Mandir',\n",
       " 22: 'Rohini West Metro Station',\n",
       " 23: 'MCD Store (Rajpur Road)',\n",
       " 24: 'Bawana School',\n",
       " 25: 'Kohat Enclave Metro Station',\n",
       " 26: 'ISBT Kashmere Gate Metro Station',\n",
       " 27: 'DSIDC Bawana/ Dhakewala',\n",
       " 28: 'Mall Road',\n",
       " 29: 'Jawahar Navodya School',\n",
       " 30: 'New Sabzi Mandi Azadpur',\n",
       " 31: 'Bawana Soap Factory',\n",
       " 32: 'Pitampura ND Block',\n",
       " 33: 'Vishwa Vidyalaya Metro Station',\n",
       " 34: 'Shahbad Daulatpur School',\n",
       " 35: 'Rohini DTC Depot 4',\n",
       " 36: 'Dhaka Village',\n",
       " 37: 'Sec-24 Rohini Main Road',\n",
       " 38: 'Jahangirpuri GT Road (Metro Station)',\n",
       " 39: 'PS Bawana',\n",
       " 40: 'GTB Nagar',\n",
       " 41: 'Delhi Gate',\n",
       " 42: 'Jain Colony',\n",
       " 43: 'Nangli Poona (GT Road)',\n",
       " 44: 'Nangal Thakran',\n",
       " 45: 'Vaishali Enclave / Kapil Vihar',\n",
       " 46: 'Maharishi Valmiki Hospital',\n",
       " 47: 'Haiderpur Metro Station',\n",
       " 48: 'Bajitpur Village',\n",
       " 49: 'Lakhhi Ram Park',\n",
       " 50: 'CV Raman ITI',\n",
       " 51: 'Prehladpur Crossing',\n",
       " 52: 'Exchange Store (Hill Road)',\n",
       " 53: 'Barwala Village',\n",
       " 54: 'Express Building / Shaheed Park (Bhagat Singh Terminal)',\n",
       " 55: 'Madhuban Chowk',\n",
       " 56: 'GPO',\n",
       " 57: 'Police Station Begumpur',\n",
       " 58: 'Azadpur Terminal',\n",
       " 59: 'DSIDC Office Bawana',\n",
       " 60: 'Libas Pur GT Road',\n",
       " 61: 'Rohini Sec 35',\n",
       " 62: 'Rithala Village',\n",
       " 63: 'Katewara Village',\n",
       " 64: 'Rohini Sec 23 Pocket 1 (Green Hill Aptt.)',\n",
       " 65: 'Novelty Cinema',\n",
       " 66: 'Poothkhurd Village',\n",
       " 67: 'Rohini Sec 7 and 8 Crossing',\n",
       " 68: 'Mandi House',\n",
       " 69: 'TB Hospital',\n",
       " 70: 'Rithala Metro Station',\n",
       " 71: 'Badli Village',\n",
       " 72: 'Alipur Village GT Road',\n",
       " 73: 'Shivaji Stadium Terminal',\n",
       " 74: 'Nirankari Sarover- Burari Xing',\n",
       " 75: 'Shahbad Dairy A Block',\n",
       " 76: 'Bawana Depot',\n",
       " 77: 'Jind Pur Crossing',\n",
       " 78: 'Mahindra Park',\n",
       " 79: 'Katewara Crossing',\n",
       " 80: 'Poothkalan More',\n",
       " 81: 'Auchandi Border',\n",
       " 82: 'Rohini Sec 27 and 30 Crossing',\n",
       " 83: 'Shaheed Captain Vikram Batra Flyover',\n",
       " 84: 'Poothkhurd Firni Road',\n",
       " 85: 'Madhuban Chowk Pitampura Metro Stn',\n",
       " 86: 'Rajpur Road Transport Deptt',\n",
       " 87: 'Harewali Crossing',\n",
       " 88: 'Aditi College Bawana',\n",
       " 89: 'Vidhan Sabha Metro Station',\n",
       " 90: 'Jharoda Metro Station',\n",
       " 91: 'Pal Colony',\n",
       " 92: 'Swaroop Nagar GT Road',\n",
       " 93: 'Jama Masjid',\n",
       " 94: 'Jail Road Rohini Sec 18',\n",
       " 95: 'Balmiki Gandhi Ashram',\n",
       " 96: 'Rohini Sec 20/21/22 Crossing',\n",
       " 97: 'Model Town II',\n",
       " 98: 'ISBT Nityanand Marg',\n",
       " 99: 'Alpana Cinema (Model Town Mtr Stn)',\n",
       " 100: 'Prem Bari Pull',\n",
       " 101: 'Ludlow Castle',\n",
       " 102: 'Red Fort',\n",
       " 103: 'Guru Govind Singh University (Kashmere Gate)',\n",
       " 104: 'Tilak Bridge',\n",
       " 105: 'Shri Krishna Apartments',\n",
       " 106: 'B.R. International School',\n",
       " 107: 'Dariyapur Kalan School',\n",
       " 108: 'Rohini Sec 22 Terminal',\n",
       " 109: 'Rohini Sec-16 Xing',\n",
       " 110: 'Wazirpur Depot / Subhash Place Depot',\n",
       " 111: 'Scindia House',\n",
       " 112: 'Rohini Sec 18 Pocket A',\n",
       " 113: 'Rohini Sec-21',\n",
       " 114: 'Exchange Store / Civil Lines Metro Station',\n",
       " 115: 'Dariyapur Gaon',\n",
       " 116: 'Gurudwara Siraspur GT Road',\n",
       " 117: 'Rohini Sec 18 B Block',\n",
       " 118: 'Shahbad Dairy',\n",
       " 119: 'Mori Gate Terminal',\n",
       " 120: 'Aruna Asaf Ali Hospital',\n",
       " 121: 'Darya Ganj Golcha Cinema',\n",
       " 122: 'Sarai Pipal Thala',\n",
       " 123: 'Rohini Sec-9',\n",
       " 124: 'Hanuman Mandir Rohini Sec 24',\n",
       " 125: 'Auchandi Sarvodaya School',\n",
       " 126: 'St. Xavier School Shahbad',\n",
       " 127: 'Rohini Depot 1 Sec 6',\n",
       " 128: 'Qutub Garh Village (T)',\n",
       " 129: 'Mungeshpur Village',\n",
       " 130: 'Bawana Dispensary',\n",
       " 131: 'Prehladpur School',\n",
       " 132: 'Bajit Pur Crossing',\n",
       " 133: 'ITO',\n",
       " 134: 'Sai Mandir',\n",
       " 135: 'Model Town III',\n",
       " 136: 'Kasturba Gandhi Road Crossing',\n",
       " 137: 'Auchandi Village',\n",
       " 138: 'Rohini Sec 23',\n",
       " 139: 'Khyber Pass',\n",
       " 140: 'Fire Station Sec-8',\n",
       " 141: 'Sultan Pur Crossing / Poothkhurd',\n",
       " 142: 'Adarsh Nagar Metro Station',\n",
       " 143: 'Pitampura JD Block',\n",
       " 144: 'Netaji Subhash Palace (Wazirpur Depot) Road No 41',\n",
       " 145: 'Max Muller Bhawan',\n",
       " 146: 'New Police Line',\n",
       " 147: 'Dera Satguru Sewaram Sahai Sec 24/25 Crossing',\n",
       " 148: 'Budhpur GT Road',\n",
       " 149: 'Rohini Sec 18 B-7 Road',\n",
       " 150: 'Mcd Store',\n",
       " 151: 'Burari Metro Station',\n",
       " 152: 'IP College',\n",
       " 153: 'Old Delhi Railway Station',\n",
       " 154: 'Radio Colony'}"
      ]
     },
     "execution_count": 4,
     "metadata": {},
     "output_type": "execute_result"
    }
   ],
   "source": [
    "pos = {i+1:j for i,j in enumerate(place)}\n",
    "\n",
    "pos"
   ]
  },
  {
   "cell_type": "code",
   "execution_count": 5,
   "metadata": {},
   "outputs": [
    {
     "data": {
      "text/plain": [
       "[('29.03880045', '76.48792045')]"
      ]
     },
     "execution_count": 5,
     "metadata": {},
     "output_type": "execute_result"
    }
   ],
   "source": [
    "reg.findall(\"center=29.03880045%2C76.48792045&\")"
   ]
  },
  {
   "cell_type": "code",
   "execution_count": 6,
   "metadata": {},
   "outputs": [],
   "source": [
    "coord = defaultdict(lambda :{\"lat\":None,\"long\":None})"
   ]
  },
  {
   "cell_type": "code",
   "execution_count": 7,
   "metadata": {},
   "outputs": [
    {
     "data": {
      "text/plain": [
       "{'/': '%2F', ' ': '+'}"
      ]
     },
     "execution_count": 7,
     "metadata": {},
     "output_type": "execute_result"
    }
   ],
   "source": [
    "special_symbols = {'/':\"%2F\",' ':\"+\"}\n",
    "\n",
    "special_symbols"
   ]
  },
  {
   "cell_type": "code",
   "execution_count": 8,
   "metadata": {},
   "outputs": [],
   "source": [
    "with open('route.json','r') as f:\n",
    "    coord = json.load(f)"
   ]
  },
  {
   "cell_type": "code",
   "execution_count": 9,
   "metadata": {},
   "outputs": [],
   "source": [
    "def clean_url(val):\n",
    "    for i,j in special_symbols.items():\n",
    "        val = val.replace(i,j)\n",
    "    \n",
    "    return val"
   ]
  },
  {
   "cell_type": "code",
   "execution_count": 10,
   "metadata": {},
   "outputs": [],
   "source": [
    "def find_place(place):\n",
    "    url = f'https://www.google.com/maps/search/{clean_url(place)}+bus+stop,+delhi,+india'\n",
    "    res = requests.get(url=url)\n",
    "    res.raise_for_status()\n",
    "\n",
    "    soup = BeautifulSoup(res.text,\"html.parser\")\n",
    "    link = str(soup.find('meta', {'itemprop': 'image'}))\n",
    "\n",
    "    if link:\n",
    "        return [j for i in map(lambda x: (float(x[0]),float(x[1])),reg.findall(link)) for j in i]\n",
    "    else:\n",
    "        return [None,None]"
   ]
  },
  {
   "cell_type": "code",
   "execution_count": 59,
   "metadata": {},
   "outputs": [
    {
     "name": "stdout",
     "output_type": "stream",
     "text": [
      "133 : ITO done => {'lat': 28.628886, 'long': 77.2456055}, url => https://www.google.com/maps/search/ITO+bus+stop,+delhi,+india\n",
      "134 : Sai Mandir done => {'lat': 28.6890107, 'long': 77.1141222}, url => https://www.google.com/maps/search/Sai+Mandir+bus+stop,+delhi,+india\n",
      "135 : Model Town III done => {'lat': 28.70512085, 'long': 77.1879005}, url => https://www.google.com/maps/search/Model+Town+III+bus+stop,+delhi,+india\n",
      "136 : Kasturba Gandhi Road Crossing done => {'lat': 28.6233675, 'long': 77.2266695}, url => https://www.google.com/maps/search/Kasturba+Gandhi+Road+Crossing+bus+stop,+delhi,+india\n",
      "137 : Auchandi Village done => {'lat': 28.821976, 'long': 76.9939971}, url => https://www.google.com/maps/search/Auchandi+Village+bus+stop,+delhi,+india\n",
      "138 : Rohini Sec 23 done => {'lat': 28.72089475, 'long': 77.0801056}, url => https://www.google.com/maps/search/Rohini+Sec+23+bus+stop,+delhi,+india\n",
      "139 : Khyber Pass done => {'lat': 28.6904, 'long': 77.221285}, url => https://www.google.com/maps/search/Khyber+Pass+bus+stop,+delhi,+india\n",
      "140 : Fire Station Sec-8 done => {'lat': 28.706946, 'long': 77.1268413}, url => https://www.google.com/maps/search/Fire+Station+Sec-8+bus+stop,+delhi,+india\n",
      "141 : Sultan Pur Crossing / Poothkhurd done => {'lat': 28.767895, 'long': 77.049345}, url => https://www.google.com/maps/search/Sultan+Pur+Crossing+%2F+Poothkhurd+bus+stop,+delhi,+india\n",
      "142 : Adarsh Nagar Metro Station done => {'lat': 28.717531, 'long': 77.170037}, url => https://www.google.com/maps/search/Adarsh+Nagar+Metro+Station+bus+stop,+delhi,+india\n",
      "143 : Pitampura JD Block done => {'lat': 28.7016815, 'long': 77.134483}, url => https://www.google.com/maps/search/Pitampura+JD+Block+bus+stop,+delhi,+india\n",
      "144 : Netaji Subhash Palace (Wazirpur Depot) Road No 41 done => {'lat': 28.69415, 'long': 77.15103}, url => https://www.google.com/maps/search/Netaji+Subhash+Palace+(Wazirpur+Depot)+Road+No+41+bus+stop,+delhi,+india\n",
      "145 : Max Muller Bhawan done => {'lat': 28.6244435, 'long': 77.2245335}, url => https://www.google.com/maps/search/Max+Muller+Bhawan+bus+stop,+delhi,+india\n",
      "146 : New Police Line done => {'lat': 28.69701435, 'long': 77.15506015}, url => https://www.google.com/maps/search/New+Police+Line+bus+stop,+delhi,+india\n",
      "147 : Dera Satguru Sewaram Sahai Sec 24/25 Crossing done => {'lat': 28.72976, 'long': 77.094635}, url => https://www.google.com/maps/search/Dera+Satguru+Sewaram+Sahai+Sec+24%2F25+Crossing+bus+stop,+delhi,+india\n",
      "148 : Budhpur GT Road done => {'lat': 28.781983, 'long': 77.14136}, url => https://www.google.com/maps/search/Budhpur+GT+Road+bus+stop,+delhi,+india\n",
      "149 : Rohini Sec 18 B-7 Road done => {'lat': 28.742964, 'long': 77.131826}, url => https://www.google.com/maps/search/Rohini+Sec+18+B-7+Road+bus+stop,+delhi,+india\n",
      "150 : Mcd Store done => {'lat': 28.6440836, 'long': 77.09323125}, url => https://www.google.com/maps/search/Mcd+Store+bus+stop,+delhi,+india\n",
      "151 : Burari Metro Station done => {'lat': 28.6440836, 'long': 77.09323125}, url => https://www.google.com/maps/search/Burari+Metro+Station+bus+stop,+delhi,+india\n",
      "152 : IP College done => {'lat': 28.68088, 'long': 77.223917}, url => https://www.google.com/maps/search/IP+College+bus+stop,+delhi,+india\n",
      "153 : Old Delhi Railway Station done => {'lat': 28.6599985, 'long': 77.228309}, url => https://www.google.com/maps/search/Old+Delhi+Railway+Station+bus+stop,+delhi,+india\n",
      "154 : Radio Colony done => {'lat': 28.710959, 'long': 77.2043855}, url => https://www.google.com/maps/search/Radio+Colony+bus+stop,+delhi,+india\n"
     ]
    }
   ],
   "source": [
    "for i in range(133,len(place)+1):\n",
    "    \n",
    "    coord[pos[i]][\"lat\"], coord[pos[i]][\"long\"] = find_place(pos[i])\n",
    "    \n",
    "    print(f'{i} : {pos[i]} done => {coord[pos[i]]}, url => https://www.google.com/maps/search/{clean_url(pos[i])}+bus+stop,+delhi,+india')\n",
    "        "
   ]
  },
  {
   "cell_type": "code",
   "execution_count": 1,
   "metadata": {},
   "outputs": [
    {
     "data": {
      "text/plain": [
       "datetime.datetime(2024, 9, 9, 12, 13, 17, 871453)"
      ]
     },
     "execution_count": 1,
     "metadata": {},
     "output_type": "execute_result"
    }
   ],
   "source": [
    "import datetime\n",
    "\n",
    "datetime.datetime.now()"
   ]
  },
  {
   "cell_type": "code",
   "execution_count": 11,
   "metadata": {},
   "outputs": [
    {
     "name": "stdout",
     "output_type": "stream",
     "text": [
      "{'Express Building / Shaheed Park (Bhagat Singh Terminal)': {'lat': 28.6400445, 'long': 77.13522}, 'Barwala School': {'lat': 28.7618325, 'long': 77.062134}, 'Rohini Sec 18': {'lat': 28.74033515, 'long': 77.1350395}, 'Badli Crossing': {'lat': 28.728556, 'long': 77.146155}, 'Old Secretariat (Postal Account Office)': {'lat': 28.6838315, 'long': 77.222193}, 'Tees Hazari Court': {'lat': 28.6668885, 'long': 77.2185865}, 'Sanjay Gandhi Transport Nagar': {'lat': 28.73766725, 'long': 77.1485955}, 'PNB STA Road': {'lat': 28.678422, 'long': 77.2207025}, 'INS Hostel': {'lat': 28.6961575, 'long': 77.21192}, 'Rohini Sec 24 Dear Satguru Sewaram Crossing': {'lat': 28.72827, 'long': 77.092445}, 'Rohini Sec-9 /7': {'lat': 28.708705, 'long': 77.1212473}, 'Ashok Vihar Crossing': {'lat': 28.701991, 'long': 77.164812}, 'Bawana': {'lat': 28.789049, 'long': 77.0454015}, 'Richi Rich Shalimar Bagh': {'lat': 28.7011835, 'long': 77.16282}, 'Nirankari Colony': {'lat': 28.7157968, 'long': 77.2058565}, 'Jain Mandir': {'lat': 28.777437, 'long': 77.1423375}, 'Prehladpur Village': {'lat': 28.626357, 'long': 77.18512}, 'Wazirabad Village (Burari)': {'lat': 28.72373, 'long': 77.21661}, 'Shahbad Daulatpur Gaon': {'lat': 28.7452605, 'long': 77.1116925}, 'GTK Depot': {'lat': 28.731041, 'long': 77.158627}, 'Delhi Engg College Shahbad': {'lat': 28.74532, 'long': 77.11643}, 'Bajitpur Mandir': {'lat': 28.80338, 'long': 76.99795}, 'Rohini West Metro Station': {'lat': 28.7151345, 'long': 77.115092}, 'MCD Store (Rajpur Road)': {'lat': 28.6732645, 'long': 77.21685}, 'Bawana School': {'lat': 28.8030391, 'long': 77.0497101}, 'Kohat Enclave Metro Station': {'lat': 28.6973355, 'long': 77.1419926}, 'ISBT Kashmere Gate Metro Station': {'lat': 28.6678065, 'long': 77.229164}, 'DSIDC Bawana/ Dhakewala': {'lat': 28.7832415, 'long': 77.042485}, 'Mall Road': {'lat': 28.69978685, 'long': 77.20279155}, 'Jawahar Navodya School': {'lat': 28.70251055, 'long': 76.9379539}, 'New Sabzi Mandi Azadpur': {'lat': 28.7143, 'long': 77.1723975}, 'Bawana Soap Factory': {'lat': 28.80184, 'long': 77.03929}, 'Pitampura ND Block': {'lat': 28.6977075, 'long': 77.14556}, 'Vishwa Vidyalaya Metro Station': {'lat': 28.6951474, 'long': 77.21471015}, 'Shahbad Daulatpur School': {'lat': 28.745659, 'long': 77.1075555}, 'Rohini DTC Depot 4': {'lat': 28.744925, 'long': 77.130215}, 'Dhaka Village': {'lat': 28.67249, 'long': 77.1891505}, 'Sec-24 Rohini Main Road': {'lat': 28.728848, 'long': 77.0955205}, 'Jahangirpuri GT Road (Metro Station)': {'lat': 28.72593, 'long': 77.16292}, 'PS Bawana': {'lat': 28.80653, 'long': 77.023035}, 'GTB Nagar': {'lat': 28.6987871, 'long': 77.20402655}, 'Delhi Gate': {'lat': 28.6061465, 'long': 77.22228545}, 'Jain Colony': {'lat': 28.7265115, 'long': 77.0502455}, 'Nangli Poona (GT Road)': {'lat': 28.7731585, 'long': 77.1414578}, 'Nangal Thakran': {'lat': 28.8089135, 'long': 77.007915}, 'Vaishali Enclave / Kapil Vihar': {'lat': 28.699538, 'long': 77.137516}, 'Maharishi Valmiki Hospital': {'lat': 28.775105, 'long': 77.047525}, 'Haiderpur Metro Station': {'lat': 28.73096, 'long': 77.149795}, 'Bajitpur Village': {'lat': 28.807505, 'long': 77.004395}, 'Lakhhi Ram Park': {'lat': 28.7133205, 'long': 77.06059}, 'CV Raman ITI': {'lat': 28.7238585, 'long': 77.2022595}, 'Prehladpur Crossing': {'lat': 28.6325115, 'long': 77.1757905}, 'Exchange Store (Hill Road)': {'lat': 28.677785, 'long': 77.22304}, 'Barwala Village': {'lat': 28.760327, 'long': 77.0606425}, 'Madhuban Chowk': {'lat': 28.70366, 'long': 77.13055}, 'GPO': {'lat': 28.6619014, 'long': 77.2348118}, 'Police Station Begumpur': {'lat': 28.72274, 'long': 77.07137}, 'Azadpur Terminal': {'lat': 28.707595, 'long': 77.179035}, 'DSIDC Office Bawana': {'lat': 28.78715425, 'long': 77.04072465}, 'Libas Pur GT Road': {'lat': 28.75137, 'long': 77.150065}, 'Rohini Sec 35': {'lat': 28.7574065, 'long': 77.0668175}, 'Rithala Village': {'lat': 28.720285, 'long': 77.1022125}, 'Katewara Village': {'lat': 28.80513175, 'long': 76.97683325}, 'Rohini Sec 23 Pocket 1 (Green Hill Aptt.)': {'lat': 28.71925, 'long': 77.084485}, 'Novelty Cinema': {'lat': 28.661455, 'long': 77.221072}, 'Poothkhurd Village': {'lat': 28.7705925, 'long': 77.05186995}, 'Rohini Sec 7 and 8 Crossing': {'lat': 28.7083005, 'long': 77.1253316}, 'Mandi House': {'lat': 28.6253402, 'long': 77.23217985}, 'TB Hospital': {'lat': 28.61450675, 'long': 77.19747205}, 'Rithala Metro Station': {'lat': 28.721601, 'long': 77.1061947}, 'Badli Village': {'lat': 28.73514855, 'long': 77.1415215}, 'Alipur Village GT Road': {'lat': 28.7973155, 'long': 77.133467}, 'Shivaji Stadium Terminal': {'lat': 28.632669, 'long': 77.2157855}, 'Nirankari Sarover- Burari Xing': {'lat': 28.7274581, 'long': 77.1979306}, 'Shahbad Dairy A Block': {'lat': 28.745854, 'long': 77.0985165}, 'Bawana Depot': {'lat': 28.802645, 'long': 77.05219}, 'Jind Pur Crossing': {'lat': 28.7933605, 'long': 77.1442015}, 'Mahindra Park': {'lat': 28.702446, 'long': 77.1510865}, 'Katewara Crossing': {'lat': 28.8061, 'long': 76.96585}, 'Poothkalan More': {'lat': 28.7177055, 'long': 77.0775405}, 'Auchandi Border': {'lat': 28.8288445, 'long': 76.9886015}, 'Rohini Sec 27 and 30 Crossing': {'lat': 28.748642, 'long': 77.089265}, 'Shaheed Captain Vikram Batra Flyover': {'lat': 28.73492, 'long': 77.156308}, 'Poothkhurd Firni Road': {'lat': 28.768395, 'long': 77.0519015}, 'Madhuban Chowk Pitampura Metro Stn': {'lat': 28.70231, 'long': 77.13337}, 'Rajpur Road Transport Deptt': {'lat': 28.6791917, 'long': 77.218635}, 'Harewali Crossing': {'lat': 28.824916, 'long': 77.005239}, 'Aditi College Bawana': {'lat': 28.794485, 'long': 77.036512}, 'Vidhan Sabha Metro Station': {'lat': 28.68772865, 'long': 77.2216628}, 'Jharoda Metro Station': {'lat': 28.6731743, 'long': 77.0692407}, 'Pal Colony': {'lat': 28.723579, 'long': 77.103647}, 'Swaroop Nagar GT Road': {'lat': 28.75807375, 'long': 77.1478755}, 'Jama Masjid': {'lat': 28.651042, 'long': 77.2381395}, 'Jail Road Rohini Sec 18': {'lat': 28.7274, 'long': 77.1433055}, 'Balmiki Gandhi Ashram': {'lat': 28.704864, 'long': 77.205101}, 'Rohini Sec 20/21/22 Crossing': {'lat': 28.7202505, 'long': 77.0692375}, 'Model Town II': {'lat': 28.70414, 'long': 77.190575}, 'ISBT Nityanand Marg': {'lat': 28.668838, 'long': 77.226404}, 'Alpana Cinema (Model Town Mtr Stn)': {'lat': 28.702865, 'long': 77.193775}, 'Prem Bari Pull': {'lat': 28.6988615, 'long': 77.157863}, 'Ludlow Castle': {'lat': 28.6723515, 'long': 77.2259155}, 'Red Fort': {'lat': 28.6229811, 'long': 77.22888875}, 'Guru Govind Singh University (Kashmere Gate)': {'lat': 28.66542, 'long': 77.23019}, 'Tilak Bridge': {'lat': 28.6248195, 'long': 77.239452}, 'Shri Krishna Apartments': {'lat': 28.743881, 'long': 77.126152}, 'B.R. International School': {'lat': 28.8215505, 'long': 76.978604}, 'Dariyapur Kalan School': {'lat': 28.8089475, 'long': 77.0149275}, 'Rohini Sec 22 Terminal': {'lat': 28.71803415, 'long': 77.063905}, 'Rohini Sec-16 Xing': {'lat': 28.7412405, 'long': 77.1194835}, 'Wazirpur Depot / Subhash Place Depot': {'lat': 28.6933815, 'long': 77.1528615}, 'Scindia House': {'lat': 28.628698, 'long': 77.2219261}, 'Rohini Sec 18 Pocket A': {'lat': 28.741861, 'long': 77.1330545}, 'Rohini Sec-21': {'lat': 28.715124, 'long': 77.0664795}, 'Exchange Store / Civil Lines Metro Station': {'lat': 28.6766995, 'long': 77.22494}, 'Dariyapur Gaon': {'lat': 28.82061365040768, 'long': 77.01128065356461}, 'Gurudwara Siraspur GT Road': {'lat': 28.76491, 'long': 77.145725}, 'Rohini Sec 18 B Block': {'lat': 28.7357925, 'long': 77.137574}, 'Shahbad Dairy': {'lat': 28.74588285, 'long': 77.104108}, 'Mori Gate Terminal': {'lat': 28.667291, 'long': 77.226239}, 'Aruna Asaf Ali Hospital': {'lat': 28.66961, 'long': 77.21753}, 'Darya Ganj Golcha Cinema': {'lat': 28.645268, 'long': 77.240405}, 'Sarai Pipal Thala': {'lat': 28.720006, 'long': 77.167534}, 'Rohini Sec-9': {'lat': 28.7122885, 'long': 77.119985}, 'Hanuman Mandir Rohini Sec 24': {'lat': 28.7229335, 'long': 77.0876525}, 'Auchandi Sarvodaya School': {'lat': 28.8203015, 'long': 76.9976395}, 'St. Xavier School Shahbad': {'lat': 28.745643, 'long': 77.103037}, 'Rohini Depot 1 Sec 6': {'lat': 28.716215, 'long': 77.11295215}, 'Qutub Garh Village (T)': {'lat': 28.8010605, 'long': 76.961974}, 'Mungeshpur Village': {'lat': 28.8103686, 'long': 77.06059775}, 'Bawana Dispensary': {'lat': 28.80094, 'long': 77.037245}, 'Prehladpur School': {'lat': 28.752642, 'long': 77.0758505}, 'Bajit Pur Crossing': {'lat': 28.798305, 'long': 77.017495}, 'ITO': {'lat': 28.628886, 'long': 77.2456055}, 'Sai Mandir': {'lat': 28.6890107, 'long': 77.1141222}, 'Model Town III': {'lat': 28.70512085, 'long': 77.1879005}, 'Kasturba Gandhi Road Crossing': {'lat': 28.6233675, 'long': 77.2266695}, 'Auchandi Village': {'lat': 28.821976, 'long': 76.9939971}, 'Rohini Sec 23': {'lat': 28.72089475, 'long': 77.0801056}, 'Khyber Pass': {'lat': 28.6904, 'long': 77.221285}, 'Fire Station Sec-8': {'lat': 28.706946, 'long': 77.1268413}, 'Sultan Pur Crossing / Poothkhurd': {'lat': 28.767895, 'long': 77.049345}, 'Adarsh Nagar Metro Station': {'lat': 28.717531, 'long': 77.170037}, 'Pitampura JD Block': {'lat': 28.7016815, 'long': 77.134483}, 'Netaji Subhash Palace (Wazirpur Depot) Road No 41': {'lat': 28.69415, 'long': 77.15103}, 'Max Muller Bhawan': {'lat': 28.6244435, 'long': 77.2245335}, 'New Police Line': {'lat': 28.69701435, 'long': 77.15506015}, 'Dera Satguru Sewaram Sahai Sec 24/25 Crossing': {'lat': 28.72976, 'long': 77.094635}, 'Budhpur GT Road': {'lat': 28.781983, 'long': 77.14136}, 'Rohini Sec 18 B-7 Road': {'lat': 28.742964, 'long': 77.131826}, 'Mcd Store': {'lat': 28.6440836, 'long': 77.09323125}, 'Burari Metro Station': {'lat': 28.6440836, 'long': 77.09323125}, 'IP College': {'lat': 28.68088, 'long': 77.223917}, 'Old Delhi Railway Station': {'lat': 28.6599985, 'long': 77.228309}, 'Radio Colony': {'lat': 28.710959, 'long': 77.2043855}}\n"
     ]
    }
   ],
   "source": [
    "print(coord)"
   ]
  },
  {
   "cell_type": "markdown",
   "metadata": {},
   "source": [
    "defaultdict(<function <lambda> at 0x0000022CC863CB80>, {'Express Building / Shaheed Park (Bhagat Singh Terminal)': {'lat': 28.6400445, 'long': 77.13522}, 'Barwala School': {'lat': 28.7618325, 'long': 77.062134}, 'Rohini Sec 18': {'lat': 28.74033515, 'long': 77.1350395}, 'Badli Crossing': {'lat': 28.728556, 'long': 77.146155}, 'Old Secretariat (Postal Account Office)': {'lat': 28.6838315, 'long': 77.222193}, 'Tees Hazari Court': {'lat': 28.6668885, 'long': 77.2185865}, 'Sanjay Gandhi Transport Nagar': {'lat': 28.73766725, 'long': 77.1485955}, 'PNB STA Road': {'lat': 28.678422, 'long': 77.2207025}, 'INS Hostel': {'lat': 28.6961575, 'long': 77.21192}, 'Rohini Sec 24 Dear Satguru Sewaram Crossing': {'lat': 28.72827, 'long': 77.092445}, 'Rohini Sec-9 /7': {'lat': 28.708705, 'long': 77.1212473}, 'Ashok Vihar Crossing': {'lat': 28.701991, 'long': 77.164812}, 'Bawana': {'lat': 28.789049, 'long': 77.0454015}, 'Richi Rich Shalimar Bagh': {'lat': 28.7011835, 'long': 77.16282}, 'Nirankari Colony': {'lat': 28.7157968, 'long': 77.2058565}, 'Jain Mandir': {'lat': 28.777437, 'long': 77.1423375}, 'Prehladpur Village': {'lat': 28.626357, 'long': 77.18512}, 'Wazirabad Village (Burari)': {'lat': 28.72373, 'long': 77.21661}, 'Shahbad Daulatpur Gaon': {'lat': 28.7452605, 'long': 77.1116925}, 'GTK Depot': {'lat': 28.731041, 'long': 77.158627}, 'Delhi Engg College Shahbad': {'lat': 28.74532, 'long': 77.11643}, 'Bajitpur Mandir': {'lat': 28.80338, 'long': 76.99795}, 'Rohini West Metro Station': {'lat': 28.7151345, 'long': 77.115092}, 'MCD Store (Rajpur Road)': {'lat': 28.6732645, 'long': 77.21685}, 'Bawana School': {'lat': 28.8030391, 'long': 77.0497101}, 'Kohat Enclave Metro Station': {'lat': 28.6973355, 'long': 77.1419926}, 'ISBT Kashmere Gate Metro Station': {'lat': 28.6678065, 'long': 77.229164}, 'DSIDC Bawana/ Dhakewala': {'lat': 28.7832415, 'long': 77.042485}, 'Mall Road': {'lat': 28.69978685, 'long': 77.20279155}, 'Jawahar Navodya School': {'lat': 28.70251055, 'long': 76.9379539}, 'New Sabzi Mandi Azadpur': {'lat': 28.7143, 'long': 77.1723975}, 'Bawana Soap Factory': {'lat': 28.80184, 'long': 77.03929}, 'Pitampura ND Block': {'lat': 28.6977075, 'long': 77.14556}, 'Vishwa Vidyalaya Metro Station': {'lat': 28.6951474, 'long': 77.21471015}, 'Shahbad Daulatpur School': {'lat': 28.745659, 'long': 77.1075555}, 'Rohini DTC Depot 4': {'lat': 28.744925, 'long': 77.130215}, 'Dhaka Village': {'lat': 28.67249, 'long': 77.1891505}, 'Sec-24 Rohini Main Road': {'lat': 28.728848, 'long': 77.0955205}, 'Jahangirpuri GT Road (Metro Station)': {'lat': 28.72593, 'long': 77.16292}, 'PS Bawana': {'lat': 28.80653, 'long': 77.023035}, 'GTB Nagar': {'lat': 28.6987871, 'long': 77.20402655}, 'Delhi Gate': {'lat': 28.6061465, 'long': 77.22228545}, 'Jain Colony': {'lat': 28.7265115, 'long': 77.0502455}, 'Nangli Poona (GT Road)': {'lat': 28.7731585, 'long': 77.1414578}, 'Nangal Thakran': {'lat': 28.8089135, 'long': 77.007915}, 'Vaishali Enclave / Kapil Vihar': {'lat': 28.699538, 'long': 77.137516}, 'Maharishi Valmiki Hospital': {'lat': 28.775105, 'long': 77.047525}, 'Haiderpur Metro Station': {'lat': 28.73096, 'long': 77.149795}, 'Bajitpur Village': {'lat': 28.807505, 'long': 77.004395}, 'Lakhhi Ram Park': {'lat': 28.7133205, 'long': 77.06059}, 'CV Raman ITI': {'lat': 28.7238585, 'long': 77.2022595}, 'Prehladpur Crossing': {'lat': 28.6325115, 'long': 77.1757905}, 'Exchange Store (Hill Road)': {'lat': 28.677785, 'long': 77.22304}, 'Barwala Village': {'lat': 28.760327, 'long': 77.0606425}, 'Madhuban Chowk': {'lat': 28.70366, 'long': 77.13055}, 'GPO': {'lat': 28.6619014, 'long': 77.2348118}, 'Police Station Begumpur': {'lat': 28.72274, 'long': 77.07137}, 'Azadpur Terminal': {'lat': 28.707595, 'long': 77.179035}, 'DSIDC Office Bawana': {'lat': 28.78715425, 'long': 77.04072465}, 'Libas Pur GT Road': {'lat': 28.75137, 'long': 77.150065}, 'Rohini Sec 35': {'lat': 28.7574065, 'long': 77.0668175}, 'Rithala Village': {'lat': 28.720285, 'long': 77.1022125}, 'Katewara Village': {'lat': 28.80513175, 'long': 76.97683325}, 'Rohini Sec 23 Pocket 1 (Green Hill Aptt.)': {'lat': 28.71925, 'long': 77.084485}, 'Novelty Cinema': {'lat': 28.661455, 'long': 77.221072}, 'Poothkhurd Village': {'lat': 28.7705925, 'long': 77.05186995}, 'Rohini Sec 7 and 8 Crossing': {'lat': 28.7083005, 'long': 77.1253316}, 'Mandi House': {'lat': 28.6253402, 'long': 77.23217985}, 'TB Hospital': {'lat': 28.61450675, 'long': 77.19747205}, 'Rithala Metro Station': {'lat': 28.721601, 'long': 77.1061947}, 'Badli Village': {'lat': 28.73514855, 'long': 77.1415215}, 'Alipur Village GT Road': {'lat': 28.7973155, 'long': 77.133467}, 'Shivaji Stadium Terminal': {'lat': 28.632669, 'long': 77.2157855}, 'Nirankari Sarover- Burari Xing': {'lat': 28.7274581, 'long': 77.1979306}, 'Shahbad Dairy A Block': {'lat': 28.745854, 'long': 77.0985165}, 'Bawana Depot': {'lat': 28.802645, 'long': 77.05219}, 'Jind Pur Crossing': {'lat': 28.7933605, 'long': 77.1442015}, 'Mahindra Park': {'lat': 28.702446, 'long': 77.1510865}, 'Katewara Crossing': {'lat': 28.8061, 'long': 76.96585}, 'Poothkalan More': {'lat': 28.7177055, 'long': 77.0775405}, 'Auchandi Border': {'lat': 28.8288445, 'long': 76.9886015}, 'Rohini Sec 27 and 30 Crossing': {'lat': 28.748642, 'long': 77.089265}, 'Shaheed Captain Vikram Batra Flyover': {'lat': 28.73492, 'long': 77.156308}, 'Poothkhurd Firni Road': {'lat': 28.768395, 'long': 77.0519015}, 'Madhuban Chowk Pitampura Metro Stn': {'lat': 28.70231, 'long': 77.13337}, 'Rajpur Road Transport Deptt': {'lat': 28.6791917, 'long': 77.218635}, 'Harewali Crossing': {'lat': 28.824916, 'long': 77.005239}, 'Aditi College Bawana': {'lat': 28.794485, 'long': 77.036512}, 'Vidhan Sabha Metro Station': {'lat': 28.68772865, 'long': 77.2216628}, 'Jharoda Metro Station': {'lat': 28.6731743, 'long': 77.0692407}, 'Pal Colony': {'lat': 28.723579, 'long': 77.103647}, 'Swaroop Nagar GT Road': {'lat': 28.75807375, 'long': 77.1478755}, 'Jama Masjid': {'lat': 28.651042, 'long': 77.2381395}, 'Jail Road Rohini Sec 18': {'lat': 28.7274, 'long': 77.1433055}, 'Balmiki Gandhi Ashram': {'lat': 28.704864, 'long': 77.205101}, 'Rohini Sec 20/21/22 Crossing': {'lat': 28.7202505, 'long': 77.0692375}, 'Model Town II': {'lat': 28.70414, 'long': 77.190575}, 'ISBT Nityanand Marg': {'lat': 28.668838, 'long': 77.226404}, 'Alpana Cinema (Model Town Mtr Stn)': {'lat': 28.702865, 'long': 77.193775}, 'Prem Bari Pull': {'lat': 28.6988615, 'long': 77.157863}, 'Ludlow Castle': {'lat': 28.6723515, 'long': 77.2259155}, 'Red Fort': {'lat': 28.6229811, 'long': 77.22888875}, 'Guru Govind Singh University (Kashmere Gate)': {'lat': 28.66542, 'long': 77.23019}, 'Tilak Bridge': {'lat': 28.6248195, 'long': 77.239452}, 'Shri Krishna Apartments': {'lat': 28.743881, 'long': 77.126152}, 'B.R. International School': {'lat': 28.8215505, 'long': 76.978604}, 'Dariyapur Kalan School': {'lat': 28.8089475, 'long': 77.0149275}, 'Rohini Sec 22 Terminal': {'lat': 28.71803415, 'long': 77.063905}, 'Rohini Sec-16 Xing': {'lat': 28.7412405, 'long': 77.1194835}, 'Wazirpur Depot / Subhash Place Depot': {'lat': 28.6933815, 'long': 77.1528615}, 'Scindia House': {'lat': 28.628698, 'long': 77.2219261}, 'Rohini Sec 18 Pocket A': {'lat': 28.741861, 'long': 77.1330545}, 'Rohini Sec-21': {'lat': 28.715124, 'long': 77.0664795}, 'Exchange Store / Civil Lines Metro Station': {'lat': 28.6766995, 'long': 77.22494}, 'Dariyapur Gaon': {'lat': 28.82061365040768, 'long': 77.01128065356461}, 'Gurudwara Siraspur GT Road': {'lat': 28.76491, 'long': 77.145725}, 'Rohini Sec 18 B Block': {'lat': 28.7357925, 'long': 77.137574}, 'Shahbad Dairy': {'lat': 28.74588285, 'long': 77.104108}, 'Mori Gate Terminal': {'lat': 28.667291, 'long': 77.226239}, 'Aruna Asaf Ali Hospital': {'lat': 28.66961, 'long': 77.21753}, 'Darya Ganj Golcha Cinema': {'lat': 28.645268, 'long': 77.240405}, 'Sarai Pipal Thala': {'lat': 28.720006, 'long': 77.167534}, 'Rohini Sec-9': {'lat': 28.7122885, 'long': 77.119985}, 'Hanuman Mandir Rohini Sec 24': {'lat': 28.7229335, 'long': 77.0876525}, 'Auchandi Sarvodaya School': {'lat': 28.8203015, 'long': 76.9976395}, 'St. Xavier School Shahbad': {'lat': 28.745643, 'long': 77.103037}, 'Rohini Depot 1 Sec 6': {'lat': 28.716215, 'long': 77.11295215}, 'Qutub Garh Village (T)': {'lat': 28.8010605, 'long': 76.961974}, 'Mungeshpur Village': {'lat': 28.8103686, 'long': 77.06059775}, 'Bawana Dispensary': {'lat': 28.80094, 'long': 77.037245}, 'Prehladpur School': {'lat': 28.752642, 'long': 77.0758505}, 'Bajit Pur Crossing': {'lat': 28.798305, 'long': 77.017495}, 'ITO': {'lat': 28.628886, 'long': 77.2456055}, 'Sai Mandir': {'lat': 28.6890107, 'long': 77.1141222}, 'Model Town III': {'lat': 28.70512085, 'long': 77.1879005}, 'Kasturba Gandhi Road Crossing': {'lat': 28.6233675, 'long': 77.2266695}, 'Auchandi Village': {'lat': 28.821976, 'long': 76.9939971}, 'Rohini Sec 23': {'lat': 28.72089475, 'long': 77.0801056}, 'Khyber Pass': {'lat': 28.6904, 'long': 77.221285}, 'Fire Station Sec-8': {'lat': 28.706946, 'long': 77.1268413}, 'Sultan Pur Crossing / Poothkhurd': {'lat': 28.767895, 'long': 77.049345}, 'Adarsh Nagar Metro Station': {'lat': 28.717531, 'long': 77.170037}, 'Pitampura JD Block': {'lat': 28.7016815, 'long': 77.134483}, 'Netaji Subhash Palace (Wazirpur Depot) Road No 41': {'lat': 28.69415, 'long': 77.15103}, 'Max Muller Bhawan': {'lat': 28.6244435, 'long': 77.2245335}, 'New Police Line': {'lat': 28.69701435, 'long': 77.15506015}, 'Dera Satguru Sewaram Sahai Sec 24/25 Crossing': {'lat': 28.72976, 'long': 77.094635}, 'Budhpur GT Road': {'lat': 28.781983, 'long': 77.14136}, 'Rohini Sec 18 B-7 Road': {'lat': 28.742964, 'long': 77.131826}, 'Mcd Store': {'lat': 28.6440836, 'long': 77.09323125}, 'Burari Metro Station': {'lat': 28.6440836, 'long': 77.09323125}, 'IP College': {'lat': 28.68088, 'long': 77.223917}, 'Old Delhi Railway Station': {'lat': 28.6599985, 'long': 77.228309}, 'Radio Colony': {'lat': 28.710959, 'long': 77.2043855}})"
   ]
  },
  {
   "cell_type": "markdown",
   "metadata": {},
   "source": [
    "{'Express Building / Shaheed Park (Bhagat Singh Terminal)': {'lat': None, 'long': None}, 'Barwala School': {'lat': 28.7618325, 'long': 77.062134}, 'Rohini Sec 18': {'lat': 28.74033515, 'long': 77.1339595}, 'Badli Crossing': {'lat': 28.728556, 'long': 77.146155}, 'Old Secretariat (Postal Account Office)': {'lat': 28.6838315, 'long': 77.222193}, 'Tees Hazari Court': {'lat': 28.6668885, 'long': 77.2185865}, 'Sanjay Gandhi Transport Nagar': {'lat': 28.71784325, 'long': 77.11863785}, 'PNB STA Road': {'lat': 28.678422, 'long': 77.2207025}, 'INS Hostel': {'lat': 28.6961575, 'long': 77.21192}, 'Rohini Sec 24 Dear Satguru Sewaram Crossing': {'lat': 28.72827, 'long': 77.092445}, 'Rohini Sec-9 /7': {'lat': 28.708705, 'long': 77.1196665}, 'Ashok Vihar Crossing': {'lat': 28.701915, 'long': 77.16475225}, 'Bawana': {'lat': 28.789049, 'long': 77.0454015}, 'Richi Rich Shalimar Bagh': {'lat': 28.7011835, 'long': 77.16282}, 'Nirankari Colony': {'lat': 28.714846, 'long': 77.204121}, 'Jain Mandir': {'lat': 28.777437, 'long': 77.1423375}, 'Prehladpur Village': {'lat': 28.626357, 'long': 77.18512}, 'Wazirabad Village (Burari)': {'lat': 28.72373, 'long': 77.21661}, 'Shahbad Daulatpur Gaon': {'lat': 28.7452605, 'long': 77.1116925}, 'GTK Depot': {'lat': 28.731041, 'long': 77.158627}, 'Delhi Engg College Shahbad': {'lat': 28.74532, 'long': 77.11643}}"
   ]
  },
  {
   "cell_type": "code",
   "execution_count": 12,
   "metadata": {},
   "outputs": [
    {
     "data": {
      "text/plain": [
       "({'lat': 28.70251055, 'long': 76.9379539},\n",
       " ['Delhi Gate',\n",
       "  'TB Hospital',\n",
       "  'Red Fort',\n",
       "  'Kasturba Gandhi Road Crossing',\n",
       "  'Max Muller Bhawan',\n",
       "  'Tilak Bridge',\n",
       "  'Mandi House',\n",
       "  'Prehladpur Village',\n",
       "  'Scindia House',\n",
       "  'ITO',\n",
       "  'Prehladpur Crossing',\n",
       "  'Shivaji Stadium Terminal',\n",
       "  'Express Building / Shaheed Park (Bhagat Singh Terminal)',\n",
       "  'Mcd Store',\n",
       "  'Burari Metro Station',\n",
       "  'Darya Ganj Golcha Cinema',\n",
       "  'Jama Masjid',\n",
       "  'Old Delhi Railway Station',\n",
       "  'Novelty Cinema',\n",
       "  'GPO',\n",
       "  'Guru Govind Singh University (Kashmere Gate)',\n",
       "  'Tees Hazari Court',\n",
       "  'Mori Gate Terminal',\n",
       "  'ISBT Kashmere Gate Metro Station',\n",
       "  'ISBT Nityanand Marg',\n",
       "  'Aruna Asaf Ali Hospital',\n",
       "  'Ludlow Castle',\n",
       "  'Dhaka Village',\n",
       "  'Jharoda Metro Station',\n",
       "  'MCD Store (Rajpur Road)',\n",
       "  'Exchange Store / Civil Lines Metro Station',\n",
       "  'Exchange Store (Hill Road)',\n",
       "  'PNB STA Road',\n",
       "  'Rajpur Road Transport Deptt',\n",
       "  'IP College',\n",
       "  'Old Secretariat (Postal Account Office)',\n",
       "  'Vidhan Sabha Metro Station',\n",
       "  'Sai Mandir',\n",
       "  'Khyber Pass',\n",
       "  'Wazirpur Depot / Subhash Place Depot',\n",
       "  'Netaji Subhash Palace (Wazirpur Depot) Road No 41',\n",
       "  'Vishwa Vidyalaya Metro Station',\n",
       "  'INS Hostel',\n",
       "  'New Police Line',\n",
       "  'Kohat Enclave Metro Station',\n",
       "  'Pitampura ND Block',\n",
       "  'GTB Nagar',\n",
       "  'Prem Bari Pull',\n",
       "  'Vaishali Enclave / Kapil Vihar',\n",
       "  'Mall Road',\n",
       "  'Richi Rich Shalimar Bagh',\n",
       "  'Pitampura JD Block',\n",
       "  'Ashok Vihar Crossing',\n",
       "  'Madhuban Chowk Pitampura Metro Stn',\n",
       "  'Mahindra Park',\n",
       "  'Jawahar Navodya School',\n",
       "  'Alpana Cinema (Model Town Mtr Stn)',\n",
       "  'Madhuban Chowk',\n",
       "  'Model Town II',\n",
       "  'Balmiki Gandhi Ashram',\n",
       "  'Model Town III',\n",
       "  'Fire Station Sec-8',\n",
       "  'Azadpur Terminal',\n",
       "  'Rohini Sec 7 and 8 Crossing',\n",
       "  'Rohini Sec-9 /7',\n",
       "  'Radio Colony',\n",
       "  'Rohini Sec-9',\n",
       "  'Lakhhi Ram Park',\n",
       "  'New Sabzi Mandi Azadpur',\n",
       "  'Rohini Sec-21',\n",
       "  'Rohini West Metro Station',\n",
       "  'Nirankari Colony',\n",
       "  'Rohini Depot 1 Sec 6',\n",
       "  'Adarsh Nagar Metro Station',\n",
       "  'Poothkalan More',\n",
       "  'Rohini Sec 22 Terminal',\n",
       "  'Rohini Sec 23 Pocket 1 (Green Hill Aptt.)',\n",
       "  'Sarai Pipal Thala',\n",
       "  'Rohini Sec 20/21/22 Crossing',\n",
       "  'Rithala Village',\n",
       "  'Rohini Sec 23',\n",
       "  'Rithala Metro Station',\n",
       "  'Police Station Begumpur',\n",
       "  'Hanuman Mandir Rohini Sec 24',\n",
       "  'Pal Colony',\n",
       "  'Wazirabad Village (Burari)',\n",
       "  'CV Raman ITI',\n",
       "  'Jahangirpuri GT Road (Metro Station)',\n",
       "  'Jain Colony',\n",
       "  'Jail Road Rohini Sec 18',\n",
       "  'Nirankari Sarover- Burari Xing',\n",
       "  'Rohini Sec 24 Dear Satguru Sewaram Crossing',\n",
       "  'Badli Crossing',\n",
       "  'Sec-24 Rohini Main Road',\n",
       "  'Dera Satguru Sewaram Sahai Sec 24/25 Crossing',\n",
       "  'Haiderpur Metro Station',\n",
       "  'GTK Depot',\n",
       "  'Shaheed Captain Vikram Batra Flyover',\n",
       "  'Badli Village',\n",
       "  'Rohini Sec 18 B Block',\n",
       "  'Sanjay Gandhi Transport Nagar',\n",
       "  'Rohini Sec 18',\n",
       "  'Rohini Sec-16 Xing',\n",
       "  'Rohini Sec 18 Pocket A',\n",
       "  'Rohini Sec 18 B-7 Road',\n",
       "  'Shri Krishna Apartments',\n",
       "  'Rohini DTC Depot 4',\n",
       "  'Shahbad Daulatpur Gaon',\n",
       "  'Delhi Engg College Shahbad',\n",
       "  'St. Xavier School Shahbad',\n",
       "  'Shahbad Daulatpur School',\n",
       "  'Shahbad Dairy A Block',\n",
       "  'Shahbad Dairy',\n",
       "  'Rohini Sec 27 and 30 Crossing',\n",
       "  'Libas Pur GT Road',\n",
       "  'Prehladpur School',\n",
       "  'Rohini Sec 35',\n",
       "  'Swaroop Nagar GT Road',\n",
       "  'Barwala Village',\n",
       "  'Barwala School',\n",
       "  'Gurudwara Siraspur GT Road',\n",
       "  'Sultan Pur Crossing / Poothkhurd',\n",
       "  'Poothkhurd Firni Road',\n",
       "  'Poothkhurd Village',\n",
       "  'Nangli Poona (GT Road)',\n",
       "  'Maharishi Valmiki Hospital',\n",
       "  'Jain Mandir',\n",
       "  'Budhpur GT Road',\n",
       "  'DSIDC Bawana/ Dhakewala',\n",
       "  'DSIDC Office Bawana',\n",
       "  'Bawana',\n",
       "  'Jind Pur Crossing',\n",
       "  'Aditi College Bawana',\n",
       "  'Alipur Village GT Road',\n",
       "  'Bajit Pur Crossing',\n",
       "  'Bawana Dispensary',\n",
       "  'Qutub Garh Village (T)',\n",
       "  'Bawana Soap Factory',\n",
       "  'Bawana Depot',\n",
       "  'Bawana School',\n",
       "  'Bajitpur Mandir',\n",
       "  'Katewara Village',\n",
       "  'Katewara Crossing',\n",
       "  'PS Bawana',\n",
       "  'Bajitpur Village',\n",
       "  'Nangal Thakran',\n",
       "  'Dariyapur Kalan School',\n",
       "  'Mungeshpur Village',\n",
       "  'Auchandi Sarvodaya School',\n",
       "  'Dariyapur Gaon',\n",
       "  'B.R. International School',\n",
       "  'Auchandi Village',\n",
       "  'Harewali Crossing',\n",
       "  'Auchandi Border'])"
      ]
     },
     "execution_count": 12,
     "metadata": {},
     "output_type": "execute_result"
    }
   ],
   "source": [
    "coord[min(coord,key=lambda x:coord[x][\"long\"])],sorted(coord,key=lambda x:coord[x][\"lat\"])"
   ]
  },
  {
   "cell_type": "code",
   "execution_count": 69,
   "metadata": {},
   "outputs": [],
   "source": [
    "with open('route.json','w') as f:\n",
    "    json.dump(coord,f)"
   ]
  },
  {
   "cell_type": "code",
   "execution_count": 13,
   "metadata": {},
   "outputs": [],
   "source": [
    "coord['Dariyapur Gaon'] = {'lat': 28.82061365040768,'long': 77.01128065356461}"
   ]
  },
  {
   "cell_type": "code",
   "execution_count": 14,
   "metadata": {},
   "outputs": [
    {
     "ename": "HTTPError",
     "evalue": "429 Client Error: Too Many Requests for url: https://www.google.com/sorry/index?continue=https://www.google.com/maps/search/Express%2BBuilding%2B%252F%2BShaheed%2BPark%2B(Bhagat%2BSingh%2BTerminal)%2Bbus%2Bstop,%2Bdelhi,%2Bindia&q=EhAkBQIBAC5AeWGEPCPfW3CHGN3V9rYGIjDBRpgnu2msVbA6A9E50-HvZT5hfWOcQnJvALz2hsMbQkjiIgPhBEabB391MvrNC_wyAXJaAUM",
     "output_type": "error",
     "traceback": [
      "\u001b[1;31m---------------------------------------------------------------------------\u001b[0m",
      "\u001b[1;31mHTTPError\u001b[0m                                 Traceback (most recent call last)",
      "Cell \u001b[1;32mIn[14], line 3\u001b[0m\n\u001b[0;32m      1\u001b[0m f\u001b[38;5;241m=\u001b[39m\u001b[38;5;124m\"\u001b[39m\u001b[38;5;124mExpress Building / Shaheed Park (Bhagat Singh Terminal)\u001b[39m\u001b[38;5;124m\"\u001b[39m\n\u001b[1;32m----> 3\u001b[0m \u001b[43mfind_place\u001b[49m\u001b[43m(\u001b[49m\u001b[43mf\u001b[49m\u001b[43m)\u001b[49m,\u001b[38;5;28mprint\u001b[39m(\u001b[38;5;124mf\u001b[39m\u001b[38;5;124m'\u001b[39m\u001b[38;5;132;01m{\u001b[39;00mf\u001b[38;5;132;01m}\u001b[39;00m\u001b[38;5;124m done => \u001b[39m\u001b[38;5;132;01m{\u001b[39;00mcoord[f]\u001b[38;5;132;01m}\u001b[39;00m\u001b[38;5;124m, url => https://www.google.com/maps/search/\u001b[39m\u001b[38;5;132;01m{\u001b[39;00mclean_url(f)\u001b[38;5;132;01m}\u001b[39;00m\u001b[38;5;124m+bus+stop,+delhi,+india\u001b[39m\u001b[38;5;124m'\u001b[39m)\n",
      "Cell \u001b[1;32mIn[10], line 4\u001b[0m, in \u001b[0;36mfind_place\u001b[1;34m(place)\u001b[0m\n\u001b[0;32m      2\u001b[0m url \u001b[38;5;241m=\u001b[39m \u001b[38;5;124mf\u001b[39m\u001b[38;5;124m'\u001b[39m\u001b[38;5;124mhttps://www.google.com/maps/search/\u001b[39m\u001b[38;5;132;01m{\u001b[39;00mclean_url(place)\u001b[38;5;132;01m}\u001b[39;00m\u001b[38;5;124m+bus+stop,+delhi,+india\u001b[39m\u001b[38;5;124m'\u001b[39m\n\u001b[0;32m      3\u001b[0m res \u001b[38;5;241m=\u001b[39m requests\u001b[38;5;241m.\u001b[39mget(url\u001b[38;5;241m=\u001b[39murl)\n\u001b[1;32m----> 4\u001b[0m \u001b[43mres\u001b[49m\u001b[38;5;241;43m.\u001b[39;49m\u001b[43mraise_for_status\u001b[49m\u001b[43m(\u001b[49m\u001b[43m)\u001b[49m\n\u001b[0;32m      6\u001b[0m soup \u001b[38;5;241m=\u001b[39m BeautifulSoup(res\u001b[38;5;241m.\u001b[39mtext,\u001b[38;5;124m\"\u001b[39m\u001b[38;5;124mhtml.parser\u001b[39m\u001b[38;5;124m\"\u001b[39m)\n\u001b[0;32m      7\u001b[0m link \u001b[38;5;241m=\u001b[39m \u001b[38;5;28mstr\u001b[39m(soup\u001b[38;5;241m.\u001b[39mfind(\u001b[38;5;124m'\u001b[39m\u001b[38;5;124mmeta\u001b[39m\u001b[38;5;124m'\u001b[39m, {\u001b[38;5;124m'\u001b[39m\u001b[38;5;124mitemprop\u001b[39m\u001b[38;5;124m'\u001b[39m: \u001b[38;5;124m'\u001b[39m\u001b[38;5;124mimage\u001b[39m\u001b[38;5;124m'\u001b[39m}))\n",
      "File \u001b[1;32mc:\\Users\\RAJ\\AppData\\Local\\Programs\\Python\\Python312\\Lib\\site-packages\\requests\\models.py:1021\u001b[0m, in \u001b[0;36mResponse.raise_for_status\u001b[1;34m(self)\u001b[0m\n\u001b[0;32m   1016\u001b[0m     http_error_msg \u001b[38;5;241m=\u001b[39m (\n\u001b[0;32m   1017\u001b[0m         \u001b[38;5;124mf\u001b[39m\u001b[38;5;124m\"\u001b[39m\u001b[38;5;132;01m{\u001b[39;00m\u001b[38;5;28mself\u001b[39m\u001b[38;5;241m.\u001b[39mstatus_code\u001b[38;5;132;01m}\u001b[39;00m\u001b[38;5;124m Server Error: \u001b[39m\u001b[38;5;132;01m{\u001b[39;00mreason\u001b[38;5;132;01m}\u001b[39;00m\u001b[38;5;124m for url: \u001b[39m\u001b[38;5;132;01m{\u001b[39;00m\u001b[38;5;28mself\u001b[39m\u001b[38;5;241m.\u001b[39murl\u001b[38;5;132;01m}\u001b[39;00m\u001b[38;5;124m\"\u001b[39m\n\u001b[0;32m   1018\u001b[0m     )\n\u001b[0;32m   1020\u001b[0m \u001b[38;5;28;01mif\u001b[39;00m http_error_msg:\n\u001b[1;32m-> 1021\u001b[0m     \u001b[38;5;28;01mraise\u001b[39;00m HTTPError(http_error_msg, response\u001b[38;5;241m=\u001b[39m\u001b[38;5;28mself\u001b[39m)\n",
      "\u001b[1;31mHTTPError\u001b[0m: 429 Client Error: Too Many Requests for url: https://www.google.com/sorry/index?continue=https://www.google.com/maps/search/Express%2BBuilding%2B%252F%2BShaheed%2BPark%2B(Bhagat%2BSingh%2BTerminal)%2Bbus%2Bstop,%2Bdelhi,%2Bindia&q=EhAkBQIBAC5AeWGEPCPfW3CHGN3V9rYGIjDBRpgnu2msVbA6A9E50-HvZT5hfWOcQnJvALz2hsMbQkjiIgPhBEabB391MvrNC_wyAXJaAUM"
     ]
    }
   ],
   "source": [
    "f=\"Express Building / Shaheed Park (Bhagat Singh Terminal)\"\n",
    "\n",
    "find_place(f),print(f'{f} done => {coord[f]}, url => https://www.google.com/maps/search/{clean_url(f)}+bus+stop,+delhi,+india')"
   ]
  }
 ],
 "metadata": {
  "kernelspec": {
   "display_name": "tf",
   "language": "python",
   "name": "python3"
  },
  "language_info": {
   "codemirror_mode": {
    "name": "ipython",
    "version": 3
   },
   "file_extension": ".py",
   "mimetype": "text/x-python",
   "name": "python",
   "nbconvert_exporter": "python",
   "pygments_lexer": "ipython3",
   "version": "3.12.4"
  }
 },
 "nbformat": 4,
 "nbformat_minor": 2
}
